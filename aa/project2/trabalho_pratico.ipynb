{
 "cells": [
  {
   "cell_type": "markdown",
   "metadata": {},
   "source": [
    "**Notebook** realizado por: Rui Roque nº42720 e Tomás Dias nº42784"
   ]
  },
  {
   "cell_type": "markdown",
   "metadata": {},
   "source": [
    "# **Apresentação & Análise**\n",
    "\n",
    "Este trabalho prático tem como **objetivo** encontrar o melhor modelo para prever quais os alunos se encontram em risco de abandonar os estudos. O trabalho está realizado em formato de competição InClass com os seguintes [detalhes.](https://www.kaggle.com/c/student-success-uevora/overview)\n",
    "\n",
    "De seguida, será analisado o [conjunto de dados](https://www.kaggle.com/c/student-success-uevora/data) disponibilizado."
   ]
  },
  {
   "cell_type": "markdown",
   "metadata": {},
   "source": [
    "Primeirarmente, foram realizados os imports necessários."
   ]
  },
  {
   "cell_type": "code",
   "execution_count": 1,
   "metadata": {},
   "outputs": [
    {
     "name": "stdout",
     "output_type": "stream",
     "text": [
      "Imports realizados!\n"
     ]
    }
   ],
   "source": [
    "import pandas as pd\n",
    "import matplotlib.pyplot as plt\n",
    "import seaborn as sns\n",
    "import numpy as np\n",
    "\n",
    "print(\"Imports realizados!\")"
   ]
  },
  {
   "cell_type": "markdown",
   "metadata": {},
   "source": [
    "Leitura dos dados de treino utilizados."
   ]
  },
  {
   "cell_type": "code",
   "execution_count": 2,
   "metadata": {},
   "outputs": [
    {
     "data": {
      "text/plain": [
       "(1846, 32)"
      ]
     },
     "execution_count": 2,
     "metadata": {},
     "output_type": "execute_result"
    }
   ],
   "source": [
    "data_train = pd.read_csv(\"train.csv\", header=0)\n",
    "data_train.shape"
   ]
  },
  {
   "cell_type": "markdown",
   "metadata": {},
   "source": [
    "Exploração dos dados de treino."
   ]
  },
  {
   "cell_type": "code",
   "execution_count": 3,
   "metadata": {},
   "outputs": [
    {
     "data": {
      "text/html": [
       "<div>\n",
       "<style scoped>\n",
       "    .dataframe tbody tr th:only-of-type {\n",
       "        vertical-align: middle;\n",
       "    }\n",
       "\n",
       "    .dataframe tbody tr th {\n",
       "        vertical-align: top;\n",
       "    }\n",
       "\n",
       "    .dataframe thead th {\n",
       "        text-align: right;\n",
       "    }\n",
       "</style>\n",
       "<table border=\"1\" class=\"dataframe\">\n",
       "  <thead>\n",
       "    <tr style=\"text-align: right;\">\n",
       "      <th></th>\n",
       "      <th>Id</th>\n",
       "      <th>Program</th>\n",
       "      <th>Y0s1_enrol</th>\n",
       "      <th>Y0s2_enrol</th>\n",
       "      <th>Y1s1_enrol</th>\n",
       "      <th>Y1s1_complete</th>\n",
       "      <th>Y1s1_grade</th>\n",
       "      <th>Y1s2_enrol</th>\n",
       "      <th>Y1s2_complete</th>\n",
       "      <th>Y1s2_grade</th>\n",
       "      <th>...</th>\n",
       "      <th>Y4s1_enrol</th>\n",
       "      <th>Y4s1_complete</th>\n",
       "      <th>Y4s1_grade</th>\n",
       "      <th>Y4s2_enrol</th>\n",
       "      <th>Y4s2_complete</th>\n",
       "      <th>Y4s2_grade</th>\n",
       "      <th>Rest_enrol</th>\n",
       "      <th>Rest_complete</th>\n",
       "      <th>Rest_grade</th>\n",
       "      <th>Failure</th>\n",
       "    </tr>\n",
       "  </thead>\n",
       "  <tbody>\n",
       "    <tr>\n",
       "      <th>0</th>\n",
       "      <td>131386709</td>\n",
       "      <td>Management</td>\n",
       "      <td>46.0</td>\n",
       "      <td>30.0</td>\n",
       "      <td>36.5</td>\n",
       "      <td>36.5</td>\n",
       "      <td>11.452</td>\n",
       "      <td>36.0</td>\n",
       "      <td>36.0</td>\n",
       "      <td>13.236</td>\n",
       "      <td>...</td>\n",
       "      <td>0.0</td>\n",
       "      <td>0.0</td>\n",
       "      <td>0.00</td>\n",
       "      <td>0.0</td>\n",
       "      <td>0.0</td>\n",
       "      <td>0.000</td>\n",
       "      <td>0.0</td>\n",
       "      <td>0.0</td>\n",
       "      <td>0.0</td>\n",
       "      <td>0</td>\n",
       "    </tr>\n",
       "    <tr>\n",
       "      <th>1</th>\n",
       "      <td>111354305</td>\n",
       "      <td>Nursing</td>\n",
       "      <td>30.0</td>\n",
       "      <td>24.0</td>\n",
       "      <td>30.0</td>\n",
       "      <td>30.0</td>\n",
       "      <td>14.933</td>\n",
       "      <td>30.0</td>\n",
       "      <td>30.0</td>\n",
       "      <td>17.333</td>\n",
       "      <td>...</td>\n",
       "      <td>0.0</td>\n",
       "      <td>0.0</td>\n",
       "      <td>0.00</td>\n",
       "      <td>0.0</td>\n",
       "      <td>0.0</td>\n",
       "      <td>0.000</td>\n",
       "      <td>0.0</td>\n",
       "      <td>0.0</td>\n",
       "      <td>0.0</td>\n",
       "      <td>0</td>\n",
       "    </tr>\n",
       "    <tr>\n",
       "      <th>2</th>\n",
       "      <td>111345828</td>\n",
       "      <td>Nursing</td>\n",
       "      <td>30.0</td>\n",
       "      <td>40.0</td>\n",
       "      <td>26.0</td>\n",
       "      <td>26.0</td>\n",
       "      <td>17.000</td>\n",
       "      <td>20.0</td>\n",
       "      <td>10.0</td>\n",
       "      <td>16.000</td>\n",
       "      <td>...</td>\n",
       "      <td>0.0</td>\n",
       "      <td>0.0</td>\n",
       "      <td>0.00</td>\n",
       "      <td>0.0</td>\n",
       "      <td>0.0</td>\n",
       "      <td>0.000</td>\n",
       "      <td>0.0</td>\n",
       "      <td>0.0</td>\n",
       "      <td>0.0</td>\n",
       "      <td>0</td>\n",
       "    </tr>\n",
       "    <tr>\n",
       "      <th>3</th>\n",
       "      <td>131393682</td>\n",
       "      <td>Biology</td>\n",
       "      <td>0.0</td>\n",
       "      <td>6.0</td>\n",
       "      <td>20.0</td>\n",
       "      <td>14.0</td>\n",
       "      <td>12.286</td>\n",
       "      <td>12.0</td>\n",
       "      <td>0.0</td>\n",
       "      <td>0.000</td>\n",
       "      <td>...</td>\n",
       "      <td>28.0</td>\n",
       "      <td>28.0</td>\n",
       "      <td>11.75</td>\n",
       "      <td>42.0</td>\n",
       "      <td>36.0</td>\n",
       "      <td>11.833</td>\n",
       "      <td>0.0</td>\n",
       "      <td>0.0</td>\n",
       "      <td>0.0</td>\n",
       "      <td>0</td>\n",
       "    </tr>\n",
       "    <tr>\n",
       "      <th>4</th>\n",
       "      <td>131383677</td>\n",
       "      <td>Informatics</td>\n",
       "      <td>41.0</td>\n",
       "      <td>36.0</td>\n",
       "      <td>36.0</td>\n",
       "      <td>19.0</td>\n",
       "      <td>14.053</td>\n",
       "      <td>48.0</td>\n",
       "      <td>30.0</td>\n",
       "      <td>12.400</td>\n",
       "      <td>...</td>\n",
       "      <td>0.0</td>\n",
       "      <td>0.0</td>\n",
       "      <td>0.00</td>\n",
       "      <td>0.0</td>\n",
       "      <td>0.0</td>\n",
       "      <td>0.000</td>\n",
       "      <td>0.0</td>\n",
       "      <td>0.0</td>\n",
       "      <td>0.0</td>\n",
       "      <td>0</td>\n",
       "    </tr>\n",
       "  </tbody>\n",
       "</table>\n",
       "<p>5 rows × 32 columns</p>\n",
       "</div>"
      ],
      "text/plain": [
       "          Id      Program  Y0s1_enrol  Y0s2_enrol  Y1s1_enrol  Y1s1_complete  \\\n",
       "0  131386709   Management        46.0        30.0        36.5           36.5   \n",
       "1  111354305      Nursing        30.0        24.0        30.0           30.0   \n",
       "2  111345828      Nursing        30.0        40.0        26.0           26.0   \n",
       "3  131393682      Biology         0.0         6.0        20.0           14.0   \n",
       "4  131383677  Informatics        41.0        36.0        36.0           19.0   \n",
       "\n",
       "   Y1s1_grade  Y1s2_enrol  Y1s2_complete  Y1s2_grade  ...  Y4s1_enrol  \\\n",
       "0      11.452        36.0           36.0      13.236  ...         0.0   \n",
       "1      14.933        30.0           30.0      17.333  ...         0.0   \n",
       "2      17.000        20.0           10.0      16.000  ...         0.0   \n",
       "3      12.286        12.0            0.0       0.000  ...        28.0   \n",
       "4      14.053        48.0           30.0      12.400  ...         0.0   \n",
       "\n",
       "   Y4s1_complete  Y4s1_grade  Y4s2_enrol  Y4s2_complete  Y4s2_grade  \\\n",
       "0            0.0        0.00         0.0            0.0       0.000   \n",
       "1            0.0        0.00         0.0            0.0       0.000   \n",
       "2            0.0        0.00         0.0            0.0       0.000   \n",
       "3           28.0       11.75        42.0           36.0      11.833   \n",
       "4            0.0        0.00         0.0            0.0       0.000   \n",
       "\n",
       "   Rest_enrol  Rest_complete  Rest_grade  Failure  \n",
       "0         0.0            0.0         0.0        0  \n",
       "1         0.0            0.0         0.0        0  \n",
       "2         0.0            0.0         0.0        0  \n",
       "3         0.0            0.0         0.0        0  \n",
       "4         0.0            0.0         0.0        0  \n",
       "\n",
       "[5 rows x 32 columns]"
      ]
     },
     "execution_count": 3,
     "metadata": {},
     "output_type": "execute_result"
    }
   ],
   "source": [
    "data_train.head()"
   ]
  },
  {
   "cell_type": "markdown",
   "metadata": {},
   "source": [
    "Leitura dos dados de teste utilizados."
   ]
  },
  {
   "cell_type": "code",
   "execution_count": 4,
   "metadata": {},
   "outputs": [
    {
     "data": {
      "text/plain": [
       "(792, 31)"
      ]
     },
     "execution_count": 4,
     "metadata": {},
     "output_type": "execute_result"
    }
   ],
   "source": [
    "data_test = pd.read_csv(\"test.csv\", header=0)\n",
    "data_test.shape"
   ]
  },
  {
   "cell_type": "markdown",
   "metadata": {},
   "source": [
    "Exploração dos dados de teste."
   ]
  },
  {
   "cell_type": "code",
   "execution_count": 5,
   "metadata": {},
   "outputs": [
    {
     "data": {
      "text/html": [
       "<div>\n",
       "<style scoped>\n",
       "    .dataframe tbody tr th:only-of-type {\n",
       "        vertical-align: middle;\n",
       "    }\n",
       "\n",
       "    .dataframe tbody tr th {\n",
       "        vertical-align: top;\n",
       "    }\n",
       "\n",
       "    .dataframe thead th {\n",
       "        text-align: right;\n",
       "    }\n",
       "</style>\n",
       "<table border=\"1\" class=\"dataframe\">\n",
       "  <thead>\n",
       "    <tr style=\"text-align: right;\">\n",
       "      <th></th>\n",
       "      <th>Id</th>\n",
       "      <th>Program</th>\n",
       "      <th>Y0s1_enrol</th>\n",
       "      <th>Y0s2_enrol</th>\n",
       "      <th>Y1s1_enrol</th>\n",
       "      <th>Y1s1_complete</th>\n",
       "      <th>Y1s1_grade</th>\n",
       "      <th>Y1s2_enrol</th>\n",
       "      <th>Y1s2_complete</th>\n",
       "      <th>Y1s2_grade</th>\n",
       "      <th>...</th>\n",
       "      <th>Y3s2_grade</th>\n",
       "      <th>Y4s1_enrol</th>\n",
       "      <th>Y4s1_complete</th>\n",
       "      <th>Y4s1_grade</th>\n",
       "      <th>Y4s2_enrol</th>\n",
       "      <th>Y4s2_complete</th>\n",
       "      <th>Y4s2_grade</th>\n",
       "      <th>Rest_enrol</th>\n",
       "      <th>Rest_complete</th>\n",
       "      <th>Rest_grade</th>\n",
       "    </tr>\n",
       "  </thead>\n",
       "  <tbody>\n",
       "    <tr>\n",
       "      <th>0</th>\n",
       "      <td>131394910</td>\n",
       "      <td>Management</td>\n",
       "      <td>39.0</td>\n",
       "      <td>29.5</td>\n",
       "      <td>27.0</td>\n",
       "      <td>6.0</td>\n",
       "      <td>10.000</td>\n",
       "      <td>42.0</td>\n",
       "      <td>0.0</td>\n",
       "      <td>0.000</td>\n",
       "      <td>...</td>\n",
       "      <td>0.000</td>\n",
       "      <td>41.5</td>\n",
       "      <td>0.0</td>\n",
       "      <td>0.0</td>\n",
       "      <td>29.0</td>\n",
       "      <td>10.0</td>\n",
       "      <td>10.8</td>\n",
       "      <td>143.0</td>\n",
       "      <td>0.0</td>\n",
       "      <td>0.0</td>\n",
       "    </tr>\n",
       "    <tr>\n",
       "      <th>1</th>\n",
       "      <td>131391329</td>\n",
       "      <td>Biology</td>\n",
       "      <td>23.0</td>\n",
       "      <td>24.0</td>\n",
       "      <td>32.0</td>\n",
       "      <td>28.0</td>\n",
       "      <td>13.143</td>\n",
       "      <td>40.0</td>\n",
       "      <td>30.0</td>\n",
       "      <td>14.000</td>\n",
       "      <td>...</td>\n",
       "      <td>12.500</td>\n",
       "      <td>0.0</td>\n",
       "      <td>0.0</td>\n",
       "      <td>0.0</td>\n",
       "      <td>0.0</td>\n",
       "      <td>0.0</td>\n",
       "      <td>0.0</td>\n",
       "      <td>0.0</td>\n",
       "      <td>0.0</td>\n",
       "      <td>0.0</td>\n",
       "    </tr>\n",
       "    <tr>\n",
       "      <th>2</th>\n",
       "      <td>111345779</td>\n",
       "      <td>Nursing</td>\n",
       "      <td>30.0</td>\n",
       "      <td>30.0</td>\n",
       "      <td>26.0</td>\n",
       "      <td>26.0</td>\n",
       "      <td>15.192</td>\n",
       "      <td>30.0</td>\n",
       "      <td>30.0</td>\n",
       "      <td>16.000</td>\n",
       "      <td>...</td>\n",
       "      <td>13.067</td>\n",
       "      <td>0.0</td>\n",
       "      <td>0.0</td>\n",
       "      <td>0.0</td>\n",
       "      <td>0.0</td>\n",
       "      <td>0.0</td>\n",
       "      <td>0.0</td>\n",
       "      <td>0.0</td>\n",
       "      <td>0.0</td>\n",
       "      <td>0.0</td>\n",
       "    </tr>\n",
       "    <tr>\n",
       "      <th>3</th>\n",
       "      <td>131382288</td>\n",
       "      <td>Management</td>\n",
       "      <td>30.0</td>\n",
       "      <td>30.0</td>\n",
       "      <td>30.0</td>\n",
       "      <td>30.0</td>\n",
       "      <td>14.900</td>\n",
       "      <td>30.0</td>\n",
       "      <td>30.0</td>\n",
       "      <td>15.200</td>\n",
       "      <td>...</td>\n",
       "      <td>0.000</td>\n",
       "      <td>0.0</td>\n",
       "      <td>0.0</td>\n",
       "      <td>0.0</td>\n",
       "      <td>0.0</td>\n",
       "      <td>0.0</td>\n",
       "      <td>0.0</td>\n",
       "      <td>0.0</td>\n",
       "      <td>0.0</td>\n",
       "      <td>0.0</td>\n",
       "    </tr>\n",
       "    <tr>\n",
       "      <th>4</th>\n",
       "      <td>131379697</td>\n",
       "      <td>Nursing</td>\n",
       "      <td>30.0</td>\n",
       "      <td>30.0</td>\n",
       "      <td>30.0</td>\n",
       "      <td>30.0</td>\n",
       "      <td>14.567</td>\n",
       "      <td>30.0</td>\n",
       "      <td>30.0</td>\n",
       "      <td>15.667</td>\n",
       "      <td>...</td>\n",
       "      <td>0.000</td>\n",
       "      <td>0.0</td>\n",
       "      <td>0.0</td>\n",
       "      <td>0.0</td>\n",
       "      <td>0.0</td>\n",
       "      <td>0.0</td>\n",
       "      <td>0.0</td>\n",
       "      <td>0.0</td>\n",
       "      <td>0.0</td>\n",
       "      <td>0.0</td>\n",
       "    </tr>\n",
       "  </tbody>\n",
       "</table>\n",
       "<p>5 rows × 31 columns</p>\n",
       "</div>"
      ],
      "text/plain": [
       "          Id     Program  Y0s1_enrol  Y0s2_enrol  Y1s1_enrol  Y1s1_complete  \\\n",
       "0  131394910  Management        39.0        29.5        27.0            6.0   \n",
       "1  131391329     Biology        23.0        24.0        32.0           28.0   \n",
       "2  111345779     Nursing        30.0        30.0        26.0           26.0   \n",
       "3  131382288  Management        30.0        30.0        30.0           30.0   \n",
       "4  131379697     Nursing        30.0        30.0        30.0           30.0   \n",
       "\n",
       "   Y1s1_grade  Y1s2_enrol  Y1s2_complete  Y1s2_grade  ...  Y3s2_grade  \\\n",
       "0      10.000        42.0            0.0       0.000  ...       0.000   \n",
       "1      13.143        40.0           30.0      14.000  ...      12.500   \n",
       "2      15.192        30.0           30.0      16.000  ...      13.067   \n",
       "3      14.900        30.0           30.0      15.200  ...       0.000   \n",
       "4      14.567        30.0           30.0      15.667  ...       0.000   \n",
       "\n",
       "   Y4s1_enrol  Y4s1_complete  Y4s1_grade  Y4s2_enrol  Y4s2_complete  \\\n",
       "0        41.5            0.0         0.0        29.0           10.0   \n",
       "1         0.0            0.0         0.0         0.0            0.0   \n",
       "2         0.0            0.0         0.0         0.0            0.0   \n",
       "3         0.0            0.0         0.0         0.0            0.0   \n",
       "4         0.0            0.0         0.0         0.0            0.0   \n",
       "\n",
       "   Y4s2_grade  Rest_enrol  Rest_complete  Rest_grade  \n",
       "0        10.8       143.0            0.0         0.0  \n",
       "1         0.0         0.0            0.0         0.0  \n",
       "2         0.0         0.0            0.0         0.0  \n",
       "3         0.0         0.0            0.0         0.0  \n",
       "4         0.0         0.0            0.0         0.0  \n",
       "\n",
       "[5 rows x 31 columns]"
      ]
     },
     "execution_count": 5,
     "metadata": {},
     "output_type": "execute_result"
    }
   ],
   "source": [
    "data_test.head()"
   ]
  },
  {
   "cell_type": "markdown",
   "metadata": {},
   "source": [
    "Análise da target variable ***Failure*** em relação aos ECTs inscritos e concluídos por cada aluno, sem ter em consideração o ano atual, representada pelo gráfico seguinte."
   ]
  },
  {
   "cell_type": "code",
   "execution_count": 6,
   "metadata": {},
   "outputs": [
    {
     "data": {
      "image/png": "[encoded data removed]",
      "text/plain": [
       "<Figure size 1296x648 with 1 Axes>"
      ]
     },
     "metadata": {
      "needs_background": "light"
     },
     "output_type": "display_data"
    }
   ],
   "source": [
    "year_enrol = pd.DataFrame(data_train, columns=[\"Y1s1_enrol\", \"Y1s2_enrol\", \"Y2s1_enrol\", \"Y2s2_enrol\", \"Y3s1_enrol\", \"Y3s2_enrol\", \"Y4s1_enrol\", \"Y4s2_enrol\", \"Rest_enrol\"])\n",
    "year_complete = pd.DataFrame(data_train, columns=[\"Y1s1_complete\", \"Y1s2_complete\", \"Y2s1_complete\", \"Y2s2_complete\", \"Y3s1_complete\", \"Y3s2_complete\", \"Y4s1_complete\", \"Y4s2_complete\", \"Rest_complete\"])\n",
    "\n",
    "plt.figure(figsize = (18, 9))\n",
    "plt.xlabel(\"ECTs inscritos\")\n",
    "plt.ylabel(\"ECTs concluídos\")\n",
    "sns.scatterplot(data=data_train, x=year_enrol.sum(axis=1), y=year_complete.sum(axis=1), hue=\"Failure\", palette=\"hot_r\")\n",
    "plt.show()"
   ]
  },
  {
   "cell_type": "markdown",
   "metadata": {},
   "source": [
    "É possível reparar um aglomerado de alunos que **abandonoram** os estudos, principalmente quando o número de ECTs concluídos por estes é **igual ou inferior a 50**. Por outro lado, a maioria dos alunos que concluíram **100 ou mais** ECTs **não abandonaram** os estudos.\n",
    "\n",
    "Foi também analisado o número de alunos que abandonaram e não abandonaram os estudos em cada curso, representado pelo seguinte histograma."
   ]
  },
  {
   "cell_type": "code",
   "execution_count": 7,
   "metadata": {},
   "outputs": [
    {
     "data": {
      "image/png": "[encoded data removed]",
      "text/plain": [
       "<Figure size 1296x648 with 1 Axes>"
      ]
     },
     "metadata": {
      "needs_background": "light"
     },
     "output_type": "display_data"
    }
   ],
   "source": [
    "plt.figure(figsize = (18, 9))\n",
    "sns.countplot(data=data_train, x=\"Program\", hue=\"Failure\", palette=\"hsv\")\n",
    "plt.xlabel(\"Cursos\")\n",
    "plt.ylabel(\"Nº de alunos\")\n",
    "plt.show()"
   ]
  },
  {
   "cell_type": "markdown",
   "metadata": {},
   "source": [
    "Observa-se em todos os cursos que existem mais alunos que **não abandonaram** os estudos do que aqueles que **abandonaram**, sendo essa diferença mais significativa no curso *Nursing*. Já no curso *Management* foi onde se verificou o maior número de alunos que **abandonaram** os estudos. Nos cursos *Biology* e *Informatics* a proporção de alunos que **não abandonaram** e que **abandonaram** os estudos é semelhante."
   ]
  },
  {
   "cell_type": "markdown",
   "metadata": {},
   "source": [
    "# Experiências Realizadas\n",
    "\n",
    "Para a realização das respetivas experiências, o conjunto de dados de treino e teste foram devidamente preparados."
   ]
  },
  {
   "cell_type": "code",
   "execution_count": 8,
   "metadata": {},
   "outputs": [
    {
     "data": {
      "text/plain": [
       "0    0\n",
       "1    0\n",
       "2    0\n",
       "3    0\n",
       "4    0\n",
       "Name: Failure, dtype: int64"
      ]
     },
     "execution_count": 8,
     "metadata": {},
     "output_type": "execute_result"
    }
   ],
   "source": [
    "xdata_train = data_train.drop(columns=[\"Id\", \"Failure\"])\n",
    "xdata_train.head()\n",
    "\n",
    "xdata_test = data_test.drop(columns=[\"Id\"])\n",
    "xdata_test.head()\n",
    "\n",
    "ydata_train = data_train[\"Failure\"]\n",
    "ydata_train.head()"
   ]
  },
  {
   "cell_type": "markdown",
   "metadata": {},
   "source": [
    "Foi necessário codificar os valores do atributo *Program* de modo a poderem ser utilizados na construção de modelos."
   ]
  },
  {
   "cell_type": "code",
   "execution_count": 9,
   "metadata": {},
   "outputs": [
    {
     "data": {
      "text/html": [
       "<div>\n",
       "<style scoped>\n",
       "    .dataframe tbody tr th:only-of-type {\n",
       "        vertical-align: middle;\n",
       "    }\n",
       "\n",
       "    .dataframe tbody tr th {\n",
       "        vertical-align: top;\n",
       "    }\n",
       "\n",
       "    .dataframe thead th {\n",
       "        text-align: right;\n",
       "    }\n",
       "</style>\n",
       "<table border=\"1\" class=\"dataframe\">\n",
       "  <thead>\n",
       "    <tr style=\"text-align: right;\">\n",
       "      <th></th>\n",
       "      <th>Program</th>\n",
       "      <th>Y0s1_enrol</th>\n",
       "      <th>Y0s2_enrol</th>\n",
       "      <th>Y1s1_enrol</th>\n",
       "      <th>Y1s1_complete</th>\n",
       "      <th>Y1s1_grade</th>\n",
       "      <th>Y1s2_enrol</th>\n",
       "      <th>Y1s2_complete</th>\n",
       "      <th>Y1s2_grade</th>\n",
       "      <th>Y2s1_enrol</th>\n",
       "      <th>...</th>\n",
       "      <th>Y3s2_grade</th>\n",
       "      <th>Y4s1_enrol</th>\n",
       "      <th>Y4s1_complete</th>\n",
       "      <th>Y4s1_grade</th>\n",
       "      <th>Y4s2_enrol</th>\n",
       "      <th>Y4s2_complete</th>\n",
       "      <th>Y4s2_grade</th>\n",
       "      <th>Rest_enrol</th>\n",
       "      <th>Rest_complete</th>\n",
       "      <th>Rest_grade</th>\n",
       "    </tr>\n",
       "  </thead>\n",
       "  <tbody>\n",
       "    <tr>\n",
       "      <th>0</th>\n",
       "      <td>2</td>\n",
       "      <td>46.0</td>\n",
       "      <td>30.0</td>\n",
       "      <td>36.5</td>\n",
       "      <td>36.5</td>\n",
       "      <td>11.452</td>\n",
       "      <td>36.0</td>\n",
       "      <td>36.0</td>\n",
       "      <td>13.236</td>\n",
       "      <td>30.0</td>\n",
       "      <td>...</td>\n",
       "      <td>0.000</td>\n",
       "      <td>0.0</td>\n",
       "      <td>0.0</td>\n",
       "      <td>0.00</td>\n",
       "      <td>0.0</td>\n",
       "      <td>0.0</td>\n",
       "      <td>0.000</td>\n",
       "      <td>0.0</td>\n",
       "      <td>0.0</td>\n",
       "      <td>0.0</td>\n",
       "    </tr>\n",
       "    <tr>\n",
       "      <th>1</th>\n",
       "      <td>3</td>\n",
       "      <td>30.0</td>\n",
       "      <td>24.0</td>\n",
       "      <td>30.0</td>\n",
       "      <td>30.0</td>\n",
       "      <td>14.933</td>\n",
       "      <td>30.0</td>\n",
       "      <td>30.0</td>\n",
       "      <td>17.333</td>\n",
       "      <td>30.0</td>\n",
       "      <td>...</td>\n",
       "      <td>11.967</td>\n",
       "      <td>0.0</td>\n",
       "      <td>0.0</td>\n",
       "      <td>0.00</td>\n",
       "      <td>0.0</td>\n",
       "      <td>0.0</td>\n",
       "      <td>0.000</td>\n",
       "      <td>0.0</td>\n",
       "      <td>0.0</td>\n",
       "      <td>0.0</td>\n",
       "    </tr>\n",
       "    <tr>\n",
       "      <th>2</th>\n",
       "      <td>3</td>\n",
       "      <td>30.0</td>\n",
       "      <td>40.0</td>\n",
       "      <td>26.0</td>\n",
       "      <td>26.0</td>\n",
       "      <td>17.000</td>\n",
       "      <td>20.0</td>\n",
       "      <td>10.0</td>\n",
       "      <td>16.000</td>\n",
       "      <td>32.0</td>\n",
       "      <td>...</td>\n",
       "      <td>13.233</td>\n",
       "      <td>0.0</td>\n",
       "      <td>0.0</td>\n",
       "      <td>0.00</td>\n",
       "      <td>0.0</td>\n",
       "      <td>0.0</td>\n",
       "      <td>0.000</td>\n",
       "      <td>0.0</td>\n",
       "      <td>0.0</td>\n",
       "      <td>0.0</td>\n",
       "    </tr>\n",
       "    <tr>\n",
       "      <th>3</th>\n",
       "      <td>0</td>\n",
       "      <td>0.0</td>\n",
       "      <td>6.0</td>\n",
       "      <td>20.0</td>\n",
       "      <td>14.0</td>\n",
       "      <td>12.286</td>\n",
       "      <td>12.0</td>\n",
       "      <td>0.0</td>\n",
       "      <td>0.000</td>\n",
       "      <td>14.0</td>\n",
       "      <td>...</td>\n",
       "      <td>13.636</td>\n",
       "      <td>28.0</td>\n",
       "      <td>28.0</td>\n",
       "      <td>11.75</td>\n",
       "      <td>42.0</td>\n",
       "      <td>36.0</td>\n",
       "      <td>11.833</td>\n",
       "      <td>0.0</td>\n",
       "      <td>0.0</td>\n",
       "      <td>0.0</td>\n",
       "    </tr>\n",
       "    <tr>\n",
       "      <th>4</th>\n",
       "      <td>1</td>\n",
       "      <td>41.0</td>\n",
       "      <td>36.0</td>\n",
       "      <td>36.0</td>\n",
       "      <td>19.0</td>\n",
       "      <td>14.053</td>\n",
       "      <td>48.0</td>\n",
       "      <td>30.0</td>\n",
       "      <td>12.400</td>\n",
       "      <td>33.0</td>\n",
       "      <td>...</td>\n",
       "      <td>0.000</td>\n",
       "      <td>0.0</td>\n",
       "      <td>0.0</td>\n",
       "      <td>0.00</td>\n",
       "      <td>0.0</td>\n",
       "      <td>0.0</td>\n",
       "      <td>0.000</td>\n",
       "      <td>0.0</td>\n",
       "      <td>0.0</td>\n",
       "      <td>0.0</td>\n",
       "    </tr>\n",
       "  </tbody>\n",
       "</table>\n",
       "<p>5 rows × 30 columns</p>\n",
       "</div>"
      ],
      "text/plain": [
       "   Program  Y0s1_enrol  Y0s2_enrol  Y1s1_enrol  Y1s1_complete  Y1s1_grade  \\\n",
       "0        2        46.0        30.0        36.5           36.5      11.452   \n",
       "1        3        30.0        24.0        30.0           30.0      14.933   \n",
       "2        3        30.0        40.0        26.0           26.0      17.000   \n",
       "3        0         0.0         6.0        20.0           14.0      12.286   \n",
       "4        1        41.0        36.0        36.0           19.0      14.053   \n",
       "\n",
       "   Y1s2_enrol  Y1s2_complete  Y1s2_grade  Y2s1_enrol  ...  Y3s2_grade  \\\n",
       "0        36.0           36.0      13.236        30.0  ...       0.000   \n",
       "1        30.0           30.0      17.333        30.0  ...      11.967   \n",
       "2        20.0           10.0      16.000        32.0  ...      13.233   \n",
       "3        12.0            0.0       0.000        14.0  ...      13.636   \n",
       "4        48.0           30.0      12.400        33.0  ...       0.000   \n",
       "\n",
       "   Y4s1_enrol  Y4s1_complete  Y4s1_grade  Y4s2_enrol  Y4s2_complete  \\\n",
       "0         0.0            0.0        0.00         0.0            0.0   \n",
       "1         0.0            0.0        0.00         0.0            0.0   \n",
       "2         0.0            0.0        0.00         0.0            0.0   \n",
       "3        28.0           28.0       11.75        42.0           36.0   \n",
       "4         0.0            0.0        0.00         0.0            0.0   \n",
       "\n",
       "   Y4s2_grade  Rest_enrol  Rest_complete  Rest_grade  \n",
       "0       0.000         0.0            0.0         0.0  \n",
       "1       0.000         0.0            0.0         0.0  \n",
       "2       0.000         0.0            0.0         0.0  \n",
       "3      11.833         0.0            0.0         0.0  \n",
       "4       0.000         0.0            0.0         0.0  \n",
       "\n",
       "[5 rows x 30 columns]"
      ]
     },
     "execution_count": 9,
     "metadata": {},
     "output_type": "execute_result"
    }
   ],
   "source": [
    "from sklearn.preprocessing import LabelEncoder\n",
    "\n",
    "label_encoder = LabelEncoder()\n",
    "xdata_train[\"Program\"] = label_encoder.fit_transform(xdata_train[\"Program\"])\n",
    "xdata_train.head()"
   ]
  },
  {
   "cell_type": "code",
   "execution_count": 10,
   "metadata": {},
   "outputs": [
    {
     "data": {
      "text/html": [
       "<div>\n",
       "<style scoped>\n",
       "    .dataframe tbody tr th:only-of-type {\n",
       "        vertical-align: middle;\n",
       "    }\n",
       "\n",
       "    .dataframe tbody tr th {\n",
       "        vertical-align: top;\n",
       "    }\n",
       "\n",
       "    .dataframe thead th {\n",
       "        text-align: right;\n",
       "    }\n",
       "</style>\n",
       "<table border=\"1\" class=\"dataframe\">\n",
       "  <thead>\n",
       "    <tr style=\"text-align: right;\">\n",
       "      <th></th>\n",
       "      <th>Program</th>\n",
       "      <th>Y0s1_enrol</th>\n",
       "      <th>Y0s2_enrol</th>\n",
       "      <th>Y1s1_enrol</th>\n",
       "      <th>Y1s1_complete</th>\n",
       "      <th>Y1s1_grade</th>\n",
       "      <th>Y1s2_enrol</th>\n",
       "      <th>Y1s2_complete</th>\n",
       "      <th>Y1s2_grade</th>\n",
       "      <th>Y2s1_enrol</th>\n",
       "      <th>...</th>\n",
       "      <th>Y3s2_grade</th>\n",
       "      <th>Y4s1_enrol</th>\n",
       "      <th>Y4s1_complete</th>\n",
       "      <th>Y4s1_grade</th>\n",
       "      <th>Y4s2_enrol</th>\n",
       "      <th>Y4s2_complete</th>\n",
       "      <th>Y4s2_grade</th>\n",
       "      <th>Rest_enrol</th>\n",
       "      <th>Rest_complete</th>\n",
       "      <th>Rest_grade</th>\n",
       "    </tr>\n",
       "  </thead>\n",
       "  <tbody>\n",
       "    <tr>\n",
       "      <th>0</th>\n",
       "      <td>2</td>\n",
       "      <td>39.0</td>\n",
       "      <td>29.5</td>\n",
       "      <td>27.0</td>\n",
       "      <td>6.0</td>\n",
       "      <td>10.000</td>\n",
       "      <td>42.0</td>\n",
       "      <td>0.0</td>\n",
       "      <td>0.000</td>\n",
       "      <td>35.5</td>\n",
       "      <td>...</td>\n",
       "      <td>0.000</td>\n",
       "      <td>41.5</td>\n",
       "      <td>0.0</td>\n",
       "      <td>0.0</td>\n",
       "      <td>29.0</td>\n",
       "      <td>10.0</td>\n",
       "      <td>10.8</td>\n",
       "      <td>143.0</td>\n",
       "      <td>0.0</td>\n",
       "      <td>0.0</td>\n",
       "    </tr>\n",
       "    <tr>\n",
       "      <th>1</th>\n",
       "      <td>0</td>\n",
       "      <td>23.0</td>\n",
       "      <td>24.0</td>\n",
       "      <td>32.0</td>\n",
       "      <td>28.0</td>\n",
       "      <td>13.143</td>\n",
       "      <td>40.0</td>\n",
       "      <td>30.0</td>\n",
       "      <td>14.000</td>\n",
       "      <td>36.0</td>\n",
       "      <td>...</td>\n",
       "      <td>12.500</td>\n",
       "      <td>0.0</td>\n",
       "      <td>0.0</td>\n",
       "      <td>0.0</td>\n",
       "      <td>0.0</td>\n",
       "      <td>0.0</td>\n",
       "      <td>0.0</td>\n",
       "      <td>0.0</td>\n",
       "      <td>0.0</td>\n",
       "      <td>0.0</td>\n",
       "    </tr>\n",
       "    <tr>\n",
       "      <th>2</th>\n",
       "      <td>3</td>\n",
       "      <td>30.0</td>\n",
       "      <td>30.0</td>\n",
       "      <td>26.0</td>\n",
       "      <td>26.0</td>\n",
       "      <td>15.192</td>\n",
       "      <td>30.0</td>\n",
       "      <td>30.0</td>\n",
       "      <td>16.000</td>\n",
       "      <td>26.0</td>\n",
       "      <td>...</td>\n",
       "      <td>13.067</td>\n",
       "      <td>0.0</td>\n",
       "      <td>0.0</td>\n",
       "      <td>0.0</td>\n",
       "      <td>0.0</td>\n",
       "      <td>0.0</td>\n",
       "      <td>0.0</td>\n",
       "      <td>0.0</td>\n",
       "      <td>0.0</td>\n",
       "      <td>0.0</td>\n",
       "    </tr>\n",
       "    <tr>\n",
       "      <th>3</th>\n",
       "      <td>2</td>\n",
       "      <td>30.0</td>\n",
       "      <td>30.0</td>\n",
       "      <td>30.0</td>\n",
       "      <td>30.0</td>\n",
       "      <td>14.900</td>\n",
       "      <td>30.0</td>\n",
       "      <td>30.0</td>\n",
       "      <td>15.200</td>\n",
       "      <td>30.0</td>\n",
       "      <td>...</td>\n",
       "      <td>0.000</td>\n",
       "      <td>0.0</td>\n",
       "      <td>0.0</td>\n",
       "      <td>0.0</td>\n",
       "      <td>0.0</td>\n",
       "      <td>0.0</td>\n",
       "      <td>0.0</td>\n",
       "      <td>0.0</td>\n",
       "      <td>0.0</td>\n",
       "      <td>0.0</td>\n",
       "    </tr>\n",
       "    <tr>\n",
       "      <th>4</th>\n",
       "      <td>3</td>\n",
       "      <td>30.0</td>\n",
       "      <td>30.0</td>\n",
       "      <td>30.0</td>\n",
       "      <td>30.0</td>\n",
       "      <td>14.567</td>\n",
       "      <td>30.0</td>\n",
       "      <td>30.0</td>\n",
       "      <td>15.667</td>\n",
       "      <td>0.0</td>\n",
       "      <td>...</td>\n",
       "      <td>0.000</td>\n",
       "      <td>0.0</td>\n",
       "      <td>0.0</td>\n",
       "      <td>0.0</td>\n",
       "      <td>0.0</td>\n",
       "      <td>0.0</td>\n",
       "      <td>0.0</td>\n",
       "      <td>0.0</td>\n",
       "      <td>0.0</td>\n",
       "      <td>0.0</td>\n",
       "    </tr>\n",
       "  </tbody>\n",
       "</table>\n",
       "<p>5 rows × 30 columns</p>\n",
       "</div>"
      ],
      "text/plain": [
       "   Program  Y0s1_enrol  Y0s2_enrol  Y1s1_enrol  Y1s1_complete  Y1s1_grade  \\\n",
       "0        2        39.0        29.5        27.0            6.0      10.000   \n",
       "1        0        23.0        24.0        32.0           28.0      13.143   \n",
       "2        3        30.0        30.0        26.0           26.0      15.192   \n",
       "3        2        30.0        30.0        30.0           30.0      14.900   \n",
       "4        3        30.0        30.0        30.0           30.0      14.567   \n",
       "\n",
       "   Y1s2_enrol  Y1s2_complete  Y1s2_grade  Y2s1_enrol  ...  Y3s2_grade  \\\n",
       "0        42.0            0.0       0.000        35.5  ...       0.000   \n",
       "1        40.0           30.0      14.000        36.0  ...      12.500   \n",
       "2        30.0           30.0      16.000        26.0  ...      13.067   \n",
       "3        30.0           30.0      15.200        30.0  ...       0.000   \n",
       "4        30.0           30.0      15.667         0.0  ...       0.000   \n",
       "\n",
       "   Y4s1_enrol  Y4s1_complete  Y4s1_grade  Y4s2_enrol  Y4s2_complete  \\\n",
       "0        41.5            0.0         0.0        29.0           10.0   \n",
       "1         0.0            0.0         0.0         0.0            0.0   \n",
       "2         0.0            0.0         0.0         0.0            0.0   \n",
       "3         0.0            0.0         0.0         0.0            0.0   \n",
       "4         0.0            0.0         0.0         0.0            0.0   \n",
       "\n",
       "   Y4s2_grade  Rest_enrol  Rest_complete  Rest_grade  \n",
       "0        10.8       143.0            0.0         0.0  \n",
       "1         0.0         0.0            0.0         0.0  \n",
       "2         0.0         0.0            0.0         0.0  \n",
       "3         0.0         0.0            0.0         0.0  \n",
       "4         0.0         0.0            0.0         0.0  \n",
       "\n",
       "[5 rows x 30 columns]"
      ]
     },
     "execution_count": 10,
     "metadata": {},
     "output_type": "execute_result"
    }
   ],
   "source": [
    "xdata_test[\"Program\"] = label_encoder.fit_transform(xdata_test[\"Program\"])\n",
    "xdata_test.head()"
   ]
  },
  {
   "cell_type": "markdown",
   "metadata": {},
   "source": [
    "Procedeu-se à divisão do conjunto de treino em dados para construir e treinar os modelos e dados para validação.  "
   ]
  },
  {
   "cell_type": "code",
   "execution_count": 11,
   "metadata": {},
   "outputs": [],
   "source": [
    "from sklearn.model_selection import train_test_split\n",
    "\n",
    "x_train, x_val, y_train, y_val = train_test_split(xdata_train, ydata_train, random_state=42)"
   ]
  },
  {
   "cell_type": "markdown",
   "metadata": {},
   "source": [
    "Na tentativa de procurar o melhor modelo, escolheu-se e testou-se vários modelos base."
   ]
  },
  {
   "cell_type": "code",
   "execution_count": 12,
   "metadata": {},
   "outputs": [],
   "source": [
    "from sklearn.linear_model import Lasso, LinearRegression, LogisticRegression, Ridge\n",
    "from sklearn.svm import SVC, SVR\n",
    "from sklearn.ensemble import ExtraTreesClassifier, GradientBoostingClassifier, RandomForestClassifier\n",
    "\n",
    "# Lasso\n",
    "lasso = Lasso(alpha=0.01).fit(x_train, y_train)\n",
    "lasso_y_pred = lasso.predict(x_val)\n",
    "\n",
    "# Linear Regression\n",
    "linreg = LinearRegression().fit(x_train, y_train)\n",
    "linreg_y_pred = linreg.predict(x_val)\n",
    "\n",
    "# Ridge\n",
    "ridge = Ridge(alpha=1.0).fit(x_train, y_train)\n",
    "ridge_y_pred = ridge.predict(x_val)\n",
    "\n",
    "# SVR\n",
    "svr = SVR(C=0.01).fit(x_train, y_train)\n",
    "svr_y_pred = svr.predict(x_val)\n",
    "\n",
    "\n",
    "# Modelos analisados com mais detalhe de seguida\n",
    "\n",
    "# logreg = LogisticRegression()\n",
    "# svc = SVC()\n",
    "# rf = RandomForestClassifier()\n",
    "# et = ExtraTreesClassifier()\n",
    "# boosting = GradientBoostingClassifier()"
   ]
  },
  {
   "cell_type": "markdown",
   "metadata": {},
   "source": [
    "A validação cruzada foi fundamental para o processo de escolha do melhor modelo e parâmetros. Para tal, optou-se pelas seguintes estratégias.\n"
   ]
  },
  {
   "cell_type": "code",
   "execution_count": 13,
   "metadata": {},
   "outputs": [],
   "source": [
    "from sklearn.model_selection import ShuffleSplit, StratifiedShuffleSplit\n",
    "\n",
    "# shuffle_split = ShuffleSplit()\n",
    "# stratified_shuffle_split = StratifiedShuffleSplit()"
   ]
  },
  {
   "cell_type": "markdown",
   "metadata": {},
   "source": [
    "Em junção com a validação cruzada utilizou-se o **Grid Search** para a afinação de parâmetros."
   ]
  },
  {
   "cell_type": "code",
   "execution_count": 14,
   "metadata": {},
   "outputs": [],
   "source": [
    "from sklearn.model_selection import GridSearchCV\n",
    "\n",
    "# grid_search = GridSearchCV()"
   ]
  },
  {
   "cell_type": "markdown",
   "metadata": {},
   "source": [
    "Para a avaliação dos modelos utilizou-se os seguintes indicadores de desempenho."
   ]
  },
  {
   "cell_type": "code",
   "execution_count": 15,
   "metadata": {},
   "outputs": [
    {
     "name": "stdout",
     "output_type": "stream",
     "text": [
      "Mean Absolute Error - Lasso: 0.158\n",
      "Mean Absolute Error - Linear Regression: 0.156\n",
      "Mean Absolute Error - Ridge: 0.156\n",
      "Mean Absolute Error - SVR: 0.179\n"
     ]
    }
   ],
   "source": [
    "from sklearn.metrics import accuracy_score, confusion_matrix, ConfusionMatrixDisplay, mean_absolute_error, precision_score, recall_score, f1_score\n",
    "\n",
    "# Resultados da média de erro absoluta para os modelos construídos anteriormente\n",
    "\n",
    "print(\"Mean Absolute Error - Lasso: {:.3f}\".format(mean_absolute_error(y_val, lasso_y_pred)))\n",
    "print(\"Mean Absolute Error - Linear Regression: {:.3f}\".format(mean_absolute_error(y_val, linreg_y_pred)))\n",
    "print(\"Mean Absolute Error - Ridge: {:.3f}\".format(mean_absolute_error(y_val, ridge_y_pred)))\n",
    "print(\"Mean Absolute Error - SVR: {:.3f}\".format(mean_absolute_error(y_val, svr_y_pred)))\n"
   ]
  },
  {
   "cell_type": "markdown",
   "metadata": {},
   "source": [
    "# 5 Melhores Modelos - Setup & Desempenho\n",
    "\n",
    "Após várias tentativas e testes, apurou-se os melhores modelos. Esta escolha baseou-se naturalmente pelo desempenho no que diz respeito à previsão dos valores de ***Failure***, mas também no quão diferenciados estes são entre si.\n",
    "\n",
    "### Logistic Regression\n",
    "\n",
    "Definiu-se inicialmente o modelo com os seguintes parâmetros."
   ]
  },
  {
   "cell_type": "code",
   "execution_count": 16,
   "metadata": {},
   "outputs": [],
   "source": [
    "logreg = LogisticRegression(max_iter=1000, random_state=0)"
   ]
  },
  {
   "cell_type": "markdown",
   "metadata": {},
   "source": [
    "De entre todas as estratégias de validação cruzada testadas, a estratégia **ShuffleSplit** revelou ser a mais eficaz para este modelo."
   ]
  },
  {
   "cell_type": "code",
   "execution_count": 17,
   "metadata": {},
   "outputs": [],
   "source": [
    "shuffle_split = ShuffleSplit(test_size=.3, n_splits=10, random_state=0)"
   ]
  },
  {
   "cell_type": "markdown",
   "metadata": {},
   "source": [
    "Escolheu-se um conjunto de valores para o parâmetro **C** e aplicou-se o **Grid Search**."
   ]
  },
  {
   "cell_type": "code",
   "execution_count": 18,
   "metadata": {},
   "outputs": [],
   "source": [
    "logreg_param_grid = {\"C\": [0.001, 0.01, 0.1, 1, 10, 100]}\n",
    "logreg_grid_search = GridSearchCV(logreg, logreg_param_grid, cv=shuffle_split)"
   ]
  },
  {
   "cell_type": "markdown",
   "metadata": {},
   "source": [
    "Utilizou-se o conjunto de dados destinados ao treino do modelo e procurou-se o melhor valor para o parâmetro **C**."
   ]
  },
  {
   "cell_type": "code",
   "execution_count": 19,
   "metadata": {},
   "outputs": [
    {
     "data": {
      "text/plain": [
       "GridSearchCV(cv=ShuffleSplit(n_splits=10, random_state=0, test_size=0.3, train_size=None),\n",
       "             estimator=LogisticRegression(max_iter=1000, random_state=0),\n",
       "             param_grid={'C': [0.001, 0.01, 0.1, 1, 10, 100]})"
      ]
     },
     "execution_count": 19,
     "metadata": {},
     "output_type": "execute_result"
    }
   ],
   "source": [
    "logreg_grid_search.fit(x_train, y_train)"
   ]
  },
  {
   "cell_type": "markdown",
   "metadata": {},
   "source": [
    "Os resultados do **Grid Search** foram os seguintes."
   ]
  },
  {
   "cell_type": "code",
   "execution_count": 20,
   "metadata": {},
   "outputs": [
    {
     "data": {
      "text/html": [
       "<div>\n",
       "<style scoped>\n",
       "    .dataframe tbody tr th:only-of-type {\n",
       "        vertical-align: middle;\n",
       "    }\n",
       "\n",
       "    .dataframe tbody tr th {\n",
       "        vertical-align: top;\n",
       "    }\n",
       "\n",
       "    .dataframe thead th {\n",
       "        text-align: right;\n",
       "    }\n",
       "</style>\n",
       "<table border=\"1\" class=\"dataframe\">\n",
       "  <thead>\n",
       "    <tr style=\"text-align: right;\">\n",
       "      <th></th>\n",
       "      <th>C</th>\n",
       "      <th>Accuracy</th>\n",
       "    </tr>\n",
       "  </thead>\n",
       "  <tbody>\n",
       "    <tr>\n",
       "      <th>0</th>\n",
       "      <td>0.001</td>\n",
       "      <td>0.941106</td>\n",
       "    </tr>\n",
       "    <tr>\n",
       "      <th>1</th>\n",
       "      <td>0.010</td>\n",
       "      <td>0.943510</td>\n",
       "    </tr>\n",
       "    <tr>\n",
       "      <th>2</th>\n",
       "      <td>0.100</td>\n",
       "      <td>0.943990</td>\n",
       "    </tr>\n",
       "    <tr>\n",
       "      <th>3</th>\n",
       "      <td>1.000</td>\n",
       "      <td>0.943990</td>\n",
       "    </tr>\n",
       "    <tr>\n",
       "      <th>4</th>\n",
       "      <td>10.000</td>\n",
       "      <td>0.943990</td>\n",
       "    </tr>\n",
       "    <tr>\n",
       "      <th>5</th>\n",
       "      <td>100.000</td>\n",
       "      <td>0.943990</td>\n",
       "    </tr>\n",
       "  </tbody>\n",
       "</table>\n",
       "</div>"
      ],
      "text/plain": [
       "         C  Accuracy\n",
       "0    0.001  0.941106\n",
       "1    0.010  0.943510\n",
       "2    0.100  0.943990\n",
       "3    1.000  0.943990\n",
       "4   10.000  0.943990\n",
       "5  100.000  0.943990"
      ]
     },
     "execution_count": 20,
     "metadata": {},
     "output_type": "execute_result"
    }
   ],
   "source": [
    "pd.concat([pd.DataFrame(logreg_grid_search.cv_results_[\"params\"]),pd.DataFrame(logreg_grid_search.cv_results_[\"mean_test_score\"], columns=[\"Accuracy\"])],axis=1)"
   ]
  },
  {
   "cell_type": "code",
   "execution_count": 21,
   "metadata": {},
   "outputs": [
    {
     "name": "stdout",
     "output_type": "stream",
     "text": [
      "Melhor parâmetro: {'C': 0.1}\n"
     ]
    }
   ],
   "source": [
    "print(\"Melhor parâmetro: {}\".format(logreg_grid_search.best_params_))"
   ]
  },
  {
   "cell_type": "markdown",
   "metadata": {},
   "source": [
    "Avaliou-se o melhor modelo com os dados de validação, obtendo-se os seguintes resultados."
   ]
  },
  {
   "cell_type": "code",
   "execution_count": 22,
   "metadata": {},
   "outputs": [
    {
     "name": "stdout",
     "output_type": "stream",
     "text": [
      "Exatidão: 0.939\n",
      "Precisão: 0.929\n",
      "Cobertura: 0.839\n",
      "F1: 0.881\n"
     ]
    },
    {
     "data": {
      "image/png": "[encoded data removed]",
      "text/plain": [
       "<Figure size 432x288 with 2 Axes>"
      ]
     },
     "metadata": {
      "needs_background": "light"
     },
     "output_type": "display_data"
    }
   ],
   "source": [
    "y_pred = logreg_grid_search.predict(x_val)\n",
    "\n",
    "cm = confusion_matrix(y_val, y_pred)\n",
    "disp = ConfusionMatrixDisplay(confusion_matrix=cm)\n",
    "disp.plot()\n",
    "\n",
    "print(\"Exatidão: {:.3f}\".format(accuracy_score(y_val, y_pred)))\n",
    "print(\"Precisão: {:.3f}\".format(precision_score(y_val, y_pred)))\n",
    "print(\"Cobertura: {:.3f}\".format(recall_score(y_val, y_pred)))\n",
    "print(\"F1: {:.3f}\".format(f1_score(y_val, y_pred)))"
   ]
  },
  {
   "cell_type": "markdown",
   "metadata": {},
   "source": [
    "Por fim, reconstrui-se o modelo utilizando o melhor parâmetro e o conjunto de dados de treino completo."
   ]
  },
  {
   "cell_type": "code",
   "execution_count": 23,
   "metadata": {},
   "outputs": [],
   "source": [
    "c = logreg_grid_search.best_params_[\"C\"]\n",
    "\n",
    "logreg = LogisticRegression(C=c, max_iter=1000, random_state=0).fit(xdata_train, ydata_train)\n",
    "\n",
    "y_test = logreg.predict(xdata_test)"
   ]
  },
  {
   "cell_type": "markdown",
   "metadata": {},
   "source": [
    "Este modelo obteve **0.94444** de **f1_score** para **30%** do conjunto de teste e **0.90034** para os restantes **70%**."
   ]
  },
  {
   "cell_type": "markdown",
   "metadata": {},
   "source": [
    "### SVM\n",
    "\n",
    "Definiu-se inicialmente o modelo."
   ]
  },
  {
   "cell_type": "code",
   "execution_count": 24,
   "metadata": {},
   "outputs": [],
   "source": [
    "svm = SVC()"
   ]
  },
  {
   "cell_type": "markdown",
   "metadata": {},
   "source": [
    "Utilizou-se a estratégia **ShuffleSplit** para este modelo."
   ]
  },
  {
   "cell_type": "code",
   "execution_count": 25,
   "metadata": {},
   "outputs": [],
   "source": [
    "shuffleSplit = ShuffleSplit(test_size=0.3, train_size=.7, n_splits=18, random_state=0)"
   ]
  },
  {
   "cell_type": "markdown",
   "metadata": {},
   "source": [
    "Escolheu-se um conjunto de valores para os parâmetros **C** e **gamma** e aplicou-se o **Grid Search**."
   ]
  },
  {
   "cell_type": "code",
   "execution_count": 26,
   "metadata": {},
   "outputs": [],
   "source": [
    "svm_param_grid = {'C': [50, 1, 0.1, 0.01, 0.001],\n",
    "                  'gamma': [0.000001,0.001, 0.01, 0.1, 1]}\n",
    "\n",
    "svm_grid_search = GridSearchCV(svm, svm_param_grid, cv=shuffleSplit)\n"
   ]
  },
  {
   "cell_type": "markdown",
   "metadata": {},
   "source": [
    "Utilizou-se o conjunto de dados destinados ao treino do modelo e procurou-se os melhores valores para os parâmetros **C** e **gamma**."
   ]
  },
  {
   "cell_type": "code",
   "execution_count": 27,
   "metadata": {},
   "outputs": [
    {
     "data": {
      "text/plain": [
       "GridSearchCV(cv=ShuffleSplit(n_splits=18, random_state=0, test_size=0.3, train_size=0.7),\n",
       "             estimator=SVC(),\n",
       "             param_grid={'C': [50, 1, 0.1, 0.01, 0.001],\n",
       "                         'gamma': [1e-06, 0.001, 0.01, 0.1, 1]})"
      ]
     },
     "execution_count": 27,
     "metadata": {},
     "output_type": "execute_result"
    }
   ],
   "source": [
    "svm_grid_search.fit(x_train, y_train)"
   ]
  },
  {
   "cell_type": "markdown",
   "metadata": {},
   "source": [
    "Os resultados do **Grid Search** foram os seguintes:"
   ]
  },
  {
   "cell_type": "code",
   "execution_count": 28,
   "metadata": {},
   "outputs": [
    {
     "data": {
      "text/html": [
       "<div>\n",
       "<style scoped>\n",
       "    .dataframe tbody tr th:only-of-type {\n",
       "        vertical-align: middle;\n",
       "    }\n",
       "\n",
       "    .dataframe tbody tr th {\n",
       "        vertical-align: top;\n",
       "    }\n",
       "\n",
       "    .dataframe thead th {\n",
       "        text-align: right;\n",
       "    }\n",
       "</style>\n",
       "<table border=\"1\" class=\"dataframe\">\n",
       "  <thead>\n",
       "    <tr style=\"text-align: right;\">\n",
       "      <th></th>\n",
       "      <th>C</th>\n",
       "      <th>gamma</th>\n",
       "      <th>Accuracy</th>\n",
       "    </tr>\n",
       "  </thead>\n",
       "  <tbody>\n",
       "    <tr>\n",
       "      <th>0</th>\n",
       "      <td>50.000</td>\n",
       "      <td>0.000001</td>\n",
       "      <td>0.943643</td>\n",
       "    </tr>\n",
       "    <tr>\n",
       "      <th>1</th>\n",
       "      <td>50.000</td>\n",
       "      <td>0.001000</td>\n",
       "      <td>0.924012</td>\n",
       "    </tr>\n",
       "    <tr>\n",
       "      <th>2</th>\n",
       "      <td>50.000</td>\n",
       "      <td>0.010000</td>\n",
       "      <td>0.883681</td>\n",
       "    </tr>\n",
       "    <tr>\n",
       "      <th>3</th>\n",
       "      <td>50.000</td>\n",
       "      <td>0.100000</td>\n",
       "      <td>0.851496</td>\n",
       "    </tr>\n",
       "    <tr>\n",
       "      <th>4</th>\n",
       "      <td>50.000</td>\n",
       "      <td>1.000000</td>\n",
       "      <td>0.818910</td>\n",
       "    </tr>\n",
       "    <tr>\n",
       "      <th>5</th>\n",
       "      <td>1.000</td>\n",
       "      <td>0.000001</td>\n",
       "      <td>0.898905</td>\n",
       "    </tr>\n",
       "    <tr>\n",
       "      <th>6</th>\n",
       "      <td>1.000</td>\n",
       "      <td>0.001000</td>\n",
       "      <td>0.925080</td>\n",
       "    </tr>\n",
       "    <tr>\n",
       "      <th>7</th>\n",
       "      <td>1.000</td>\n",
       "      <td>0.010000</td>\n",
       "      <td>0.878339</td>\n",
       "    </tr>\n",
       "    <tr>\n",
       "      <th>8</th>\n",
       "      <td>1.000</td>\n",
       "      <td>0.100000</td>\n",
       "      <td>0.846287</td>\n",
       "    </tr>\n",
       "    <tr>\n",
       "      <th>9</th>\n",
       "      <td>1.000</td>\n",
       "      <td>1.000000</td>\n",
       "      <td>0.810363</td>\n",
       "    </tr>\n",
       "    <tr>\n",
       "      <th>10</th>\n",
       "      <td>0.100</td>\n",
       "      <td>0.000001</td>\n",
       "      <td>0.731170</td>\n",
       "    </tr>\n",
       "    <tr>\n",
       "      <th>11</th>\n",
       "      <td>0.100</td>\n",
       "      <td>0.001000</td>\n",
       "      <td>0.897970</td>\n",
       "    </tr>\n",
       "    <tr>\n",
       "      <th>12</th>\n",
       "      <td>0.100</td>\n",
       "      <td>0.010000</td>\n",
       "      <td>0.837340</td>\n",
       "    </tr>\n",
       "    <tr>\n",
       "      <th>13</th>\n",
       "      <td>0.100</td>\n",
       "      <td>0.100000</td>\n",
       "      <td>0.788194</td>\n",
       "    </tr>\n",
       "    <tr>\n",
       "      <th>14</th>\n",
       "      <td>0.100</td>\n",
       "      <td>1.000000</td>\n",
       "      <td>0.782185</td>\n",
       "    </tr>\n",
       "    <tr>\n",
       "      <th>15</th>\n",
       "      <td>0.010</td>\n",
       "      <td>0.000001</td>\n",
       "      <td>0.731170</td>\n",
       "    </tr>\n",
       "    <tr>\n",
       "      <th>16</th>\n",
       "      <td>0.010</td>\n",
       "      <td>0.001000</td>\n",
       "      <td>0.815572</td>\n",
       "    </tr>\n",
       "    <tr>\n",
       "      <th>17</th>\n",
       "      <td>0.010</td>\n",
       "      <td>0.010000</td>\n",
       "      <td>0.731170</td>\n",
       "    </tr>\n",
       "    <tr>\n",
       "      <th>18</th>\n",
       "      <td>0.010</td>\n",
       "      <td>0.100000</td>\n",
       "      <td>0.731170</td>\n",
       "    </tr>\n",
       "    <tr>\n",
       "      <th>19</th>\n",
       "      <td>0.010</td>\n",
       "      <td>1.000000</td>\n",
       "      <td>0.731170</td>\n",
       "    </tr>\n",
       "    <tr>\n",
       "      <th>20</th>\n",
       "      <td>0.001</td>\n",
       "      <td>0.000001</td>\n",
       "      <td>0.731170</td>\n",
       "    </tr>\n",
       "    <tr>\n",
       "      <th>21</th>\n",
       "      <td>0.001</td>\n",
       "      <td>0.001000</td>\n",
       "      <td>0.731170</td>\n",
       "    </tr>\n",
       "    <tr>\n",
       "      <th>22</th>\n",
       "      <td>0.001</td>\n",
       "      <td>0.010000</td>\n",
       "      <td>0.731170</td>\n",
       "    </tr>\n",
       "    <tr>\n",
       "      <th>23</th>\n",
       "      <td>0.001</td>\n",
       "      <td>0.100000</td>\n",
       "      <td>0.731170</td>\n",
       "    </tr>\n",
       "    <tr>\n",
       "      <th>24</th>\n",
       "      <td>0.001</td>\n",
       "      <td>1.000000</td>\n",
       "      <td>0.731170</td>\n",
       "    </tr>\n",
       "  </tbody>\n",
       "</table>\n",
       "</div>"
      ],
      "text/plain": [
       "         C     gamma  Accuracy\n",
       "0   50.000  0.000001  0.943643\n",
       "1   50.000  0.001000  0.924012\n",
       "2   50.000  0.010000  0.883681\n",
       "3   50.000  0.100000  0.851496\n",
       "4   50.000  1.000000  0.818910\n",
       "5    1.000  0.000001  0.898905\n",
       "6    1.000  0.001000  0.925080\n",
       "7    1.000  0.010000  0.878339\n",
       "8    1.000  0.100000  0.846287\n",
       "9    1.000  1.000000  0.810363\n",
       "10   0.100  0.000001  0.731170\n",
       "11   0.100  0.001000  0.897970\n",
       "12   0.100  0.010000  0.837340\n",
       "13   0.100  0.100000  0.788194\n",
       "14   0.100  1.000000  0.782185\n",
       "15   0.010  0.000001  0.731170\n",
       "16   0.010  0.001000  0.815572\n",
       "17   0.010  0.010000  0.731170\n",
       "18   0.010  0.100000  0.731170\n",
       "19   0.010  1.000000  0.731170\n",
       "20   0.001  0.000001  0.731170\n",
       "21   0.001  0.001000  0.731170\n",
       "22   0.001  0.010000  0.731170\n",
       "23   0.001  0.100000  0.731170\n",
       "24   0.001  1.000000  0.731170"
      ]
     },
     "execution_count": 28,
     "metadata": {},
     "output_type": "execute_result"
    }
   ],
   "source": [
    "pd.concat([pd.DataFrame(svm_grid_search.cv_results_[\"params\"]),pd.DataFrame(svm_grid_search.cv_results_[\"mean_test_score\"], columns=[\"Accuracy\"])],axis=1)"
   ]
  },
  {
   "cell_type": "code",
   "execution_count": 29,
   "metadata": {},
   "outputs": [
    {
     "name": "stdout",
     "output_type": "stream",
     "text": [
      "Melhores parâmetros: {'C': 50, 'gamma': 1e-06}\n"
     ]
    }
   ],
   "source": [
    "print(\"Melhores parâmetros: {}\".format(svm_grid_search.best_params_))"
   ]
  },
  {
   "cell_type": "markdown",
   "metadata": {},
   "source": [
    "O desempenho de cada conjunto de parâmetros pode ser visualizado pelo **Heatmap** seguinte."
   ]
  },
  {
   "cell_type": "code",
   "execution_count": 30,
   "metadata": {},
   "outputs": [
    {
     "data": {
      "image/png": "[encoded data removed]",
      "text/plain": [
       "<Figure size 432x288 with 2 Axes>"
      ]
     },
     "metadata": {
      "needs_background": "light"
     },
     "output_type": "display_data"
    }
   ],
   "source": [
    "results = pd.DataFrame(svm_grid_search.cv_results_)\n",
    "scores = np.array(results.mean_test_score).reshape(5, 5)\n",
    "ax = sns.heatmap(scores, xticklabels=svm_param_grid[\"gamma\"], yticklabels=svm_param_grid[\"C\"], annot=True)\n",
    "plt.xlabel(\"gamma\")\n",
    "plt.ylabel(\"C\")\n",
    "plt.show()"
   ]
  },
  {
   "cell_type": "markdown",
   "metadata": {},
   "source": [
    "É possível observar-se que ambos os parâmetros influenciam o resultado, podendo-se excluir os valores de **C** inferiores a 1. Os melhores resultados ocorrem quando o valor de **C** é alto e o valor **gamma** baixo.\n",
    "\n",
    "Avaliou-se o melhor modelo com os dados de validação, obtendo-se os seguintes resultados."
   ]
  },
  {
   "cell_type": "code",
   "execution_count": 31,
   "metadata": {},
   "outputs": [
    {
     "name": "stdout",
     "output_type": "stream",
     "text": [
      "Exatidão: 0.939\n",
      "Precisão: 0.944\n",
      "Cobertura: 0.823\n",
      "F1: 0.879\n"
     ]
    },
    {
     "data": {
      "image/png": "[encoded data removed]",
      "text/plain": [
       "<Figure size 432x288 with 2 Axes>"
      ]
     },
     "metadata": {
      "needs_background": "light"
     },
     "output_type": "display_data"
    }
   ],
   "source": [
    "y_pred = svm_grid_search.predict(x_val)\n",
    "\n",
    "cm = confusion_matrix(y_val, y_pred)\n",
    "disp = ConfusionMatrixDisplay(confusion_matrix=cm)\n",
    "disp.plot()\n",
    "\n",
    "print(\"Exatidão: {:.3f}\".format(accuracy_score(y_val, y_pred)))\n",
    "print(\"Precisão: {:.3f}\".format(precision_score(y_val, y_pred)))\n",
    "print(\"Cobertura: {:.3f}\".format(recall_score(y_val, y_pred)))\n",
    "print(\"F1: {:.3f}\".format(f1_score(y_val, y_pred)))"
   ]
  },
  {
   "cell_type": "markdown",
   "metadata": {},
   "source": [
    "Por fim, reconstrui-se o modelo utilizando os melhores parâmetros e o conjunto de dados de treino completo."
   ]
  },
  {
   "cell_type": "code",
   "execution_count": 32,
   "metadata": {},
   "outputs": [],
   "source": [
    "c = svm_grid_search.best_params_[\"C\"]\n",
    "gamma = svm_grid_search.best_params_[\"gamma\"]\n",
    "\n",
    "svm = SVC(C=c, gamma=gamma, random_state=0).fit(xdata_train, ydata_train)\n",
    "\n",
    "y_test = svm.predict(xdata_test)"
   ]
  },
  {
   "cell_type": "markdown",
   "metadata": {},
   "source": [
    "Este modelo obteve **0.95774** de **f1_score** para **30%** do conjunto de teste e **0.89122** para os restantes **70%**."
   ]
  },
  {
   "cell_type": "markdown",
   "metadata": {},
   "source": [
    "### Random Forest\n",
    "\n",
    "Definiu-se inicialmente o modelo."
   ]
  },
  {
   "cell_type": "code",
   "execution_count": 33,
   "metadata": {},
   "outputs": [],
   "source": [
    "rf = RandomForestClassifier()"
   ]
  },
  {
   "cell_type": "markdown",
   "metadata": {},
   "source": [
    "Utilizou-se a estratégia **ShuffleSplit** para este modelo."
   ]
  },
  {
   "cell_type": "code",
   "execution_count": 34,
   "metadata": {},
   "outputs": [],
   "source": [
    "shuffleSplit = StratifiedShuffleSplit(n_splits=18, train_size=.75, random_state=42)"
   ]
  },
  {
   "cell_type": "markdown",
   "metadata": {},
   "source": [
    "Escolheu-se um conjunto de valores para os parâmetros n_estimators e max_leaf_nodes e aplicou-se o Grid Search."
   ]
  },
  {
   "cell_type": "code",
   "execution_count": 35,
   "metadata": {},
   "outputs": [],
   "source": [
    "rf_param_grid = {'n_estimators': [200, 90, 30, 20, 10],\n",
    "                 'max_leaf_nodes': [50, 100, 150, 200, 500]}\n",
    "\n",
    "rf_grid_search = GridSearchCV(rf, rf_param_grid, cv=shuffleSplit)"
   ]
  },
  {
   "cell_type": "markdown",
   "metadata": {},
   "source": [
    "Verificou-se que as classes do conjunto de treino completo não eram balanceadas e de forma a equilibrá-lo, recorreu-se ao **SMOTE** para acrescentar exemplos com a classe minoritária."
   ]
  },
  {
   "cell_type": "code",
   "execution_count": 36,
   "metadata": {},
   "outputs": [],
   "source": [
    "from imblearn.over_sampling import SMOTE\n",
    "\n",
    "smote = SMOTE(random_state=42)\n",
    "x_train, y_train = smote.fit_sample(x_train, y_train)"
   ]
  },
  {
   "cell_type": "markdown",
   "metadata": {},
   "source": [
    "Utilizou-se o conjunto de dados destinados ao treino do modelo e procurou-se o melhor valor para os parâmetros **n_estimators** e **max_leaf_nodes**."
   ]
  },
  {
   "cell_type": "code",
   "execution_count": 37,
   "metadata": {},
   "outputs": [
    {
     "data": {
      "text/plain": [
       "GridSearchCV(cv=StratifiedShuffleSplit(n_splits=18, random_state=42, test_size=None,\n",
       "            train_size=0.75),\n",
       "             estimator=RandomForestClassifier(),\n",
       "             param_grid={'max_leaf_nodes': [50, 100, 150, 200, 500],\n",
       "                         'n_estimators': [200, 90, 30, 20, 10]})"
      ]
     },
     "execution_count": 37,
     "metadata": {},
     "output_type": "execute_result"
    }
   ],
   "source": [
    "rf_grid_search.fit(x_train, y_train)"
   ]
  },
  {
   "cell_type": "markdown",
   "metadata": {},
   "source": [
    "Os resultados do **Grid Search** foram os seguintes:"
   ]
  },
  {
   "cell_type": "code",
   "execution_count": 38,
   "metadata": {},
   "outputs": [
    {
     "data": {
      "text/html": [
       "<div>\n",
       "<style scoped>\n",
       "    .dataframe tbody tr th:only-of-type {\n",
       "        vertical-align: middle;\n",
       "    }\n",
       "\n",
       "    .dataframe tbody tr th {\n",
       "        vertical-align: top;\n",
       "    }\n",
       "\n",
       "    .dataframe thead th {\n",
       "        text-align: right;\n",
       "    }\n",
       "</style>\n",
       "<table border=\"1\" class=\"dataframe\">\n",
       "  <thead>\n",
       "    <tr style=\"text-align: right;\">\n",
       "      <th></th>\n",
       "      <th>max_leaf_nodes</th>\n",
       "      <th>n_estimators</th>\n",
       "      <th>Accuracy</th>\n",
       "    </tr>\n",
       "  </thead>\n",
       "  <tbody>\n",
       "    <tr>\n",
       "      <th>0</th>\n",
       "      <td>50</td>\n",
       "      <td>200</td>\n",
       "      <td>0.951389</td>\n",
       "    </tr>\n",
       "    <tr>\n",
       "      <th>1</th>\n",
       "      <td>50</td>\n",
       "      <td>90</td>\n",
       "      <td>0.949846</td>\n",
       "    </tr>\n",
       "    <tr>\n",
       "      <th>2</th>\n",
       "      <td>50</td>\n",
       "      <td>30</td>\n",
       "      <td>0.949625</td>\n",
       "    </tr>\n",
       "    <tr>\n",
       "      <th>3</th>\n",
       "      <td>50</td>\n",
       "      <td>20</td>\n",
       "      <td>0.949405</td>\n",
       "    </tr>\n",
       "    <tr>\n",
       "      <th>4</th>\n",
       "      <td>50</td>\n",
       "      <td>10</td>\n",
       "      <td>0.946318</td>\n",
       "    </tr>\n",
       "    <tr>\n",
       "      <th>5</th>\n",
       "      <td>100</td>\n",
       "      <td>200</td>\n",
       "      <td>0.956239</td>\n",
       "    </tr>\n",
       "    <tr>\n",
       "      <th>6</th>\n",
       "      <td>100</td>\n",
       "      <td>90</td>\n",
       "      <td>0.956019</td>\n",
       "    </tr>\n",
       "    <tr>\n",
       "      <th>7</th>\n",
       "      <td>100</td>\n",
       "      <td>30</td>\n",
       "      <td>0.954255</td>\n",
       "    </tr>\n",
       "    <tr>\n",
       "      <th>8</th>\n",
       "      <td>100</td>\n",
       "      <td>20</td>\n",
       "      <td>0.953373</td>\n",
       "    </tr>\n",
       "    <tr>\n",
       "      <th>9</th>\n",
       "      <td>100</td>\n",
       "      <td>10</td>\n",
       "      <td>0.949846</td>\n",
       "    </tr>\n",
       "    <tr>\n",
       "      <th>10</th>\n",
       "      <td>150</td>\n",
       "      <td>200</td>\n",
       "      <td>0.954365</td>\n",
       "    </tr>\n",
       "    <tr>\n",
       "      <th>11</th>\n",
       "      <td>150</td>\n",
       "      <td>90</td>\n",
       "      <td>0.954696</td>\n",
       "    </tr>\n",
       "    <tr>\n",
       "      <th>12</th>\n",
       "      <td>150</td>\n",
       "      <td>30</td>\n",
       "      <td>0.955137</td>\n",
       "    </tr>\n",
       "    <tr>\n",
       "      <th>13</th>\n",
       "      <td>150</td>\n",
       "      <td>20</td>\n",
       "      <td>0.949184</td>\n",
       "    </tr>\n",
       "    <tr>\n",
       "      <th>14</th>\n",
       "      <td>150</td>\n",
       "      <td>10</td>\n",
       "      <td>0.947090</td>\n",
       "    </tr>\n",
       "    <tr>\n",
       "      <th>15</th>\n",
       "      <td>200</td>\n",
       "      <td>200</td>\n",
       "      <td>0.954365</td>\n",
       "    </tr>\n",
       "    <tr>\n",
       "      <th>16</th>\n",
       "      <td>200</td>\n",
       "      <td>90</td>\n",
       "      <td>0.955026</td>\n",
       "    </tr>\n",
       "    <tr>\n",
       "      <th>17</th>\n",
       "      <td>200</td>\n",
       "      <td>30</td>\n",
       "      <td>0.951058</td>\n",
       "    </tr>\n",
       "    <tr>\n",
       "      <th>18</th>\n",
       "      <td>200</td>\n",
       "      <td>20</td>\n",
       "      <td>0.953814</td>\n",
       "    </tr>\n",
       "    <tr>\n",
       "      <th>19</th>\n",
       "      <td>200</td>\n",
       "      <td>10</td>\n",
       "      <td>0.946318</td>\n",
       "    </tr>\n",
       "    <tr>\n",
       "      <th>20</th>\n",
       "      <td>500</td>\n",
       "      <td>200</td>\n",
       "      <td>0.954916</td>\n",
       "    </tr>\n",
       "    <tr>\n",
       "      <th>21</th>\n",
       "      <td>500</td>\n",
       "      <td>90</td>\n",
       "      <td>0.956570</td>\n",
       "    </tr>\n",
       "    <tr>\n",
       "      <th>22</th>\n",
       "      <td>500</td>\n",
       "      <td>30</td>\n",
       "      <td>0.953704</td>\n",
       "    </tr>\n",
       "    <tr>\n",
       "      <th>23</th>\n",
       "      <td>500</td>\n",
       "      <td>20</td>\n",
       "      <td>0.953263</td>\n",
       "    </tr>\n",
       "    <tr>\n",
       "      <th>24</th>\n",
       "      <td>500</td>\n",
       "      <td>10</td>\n",
       "      <td>0.950397</td>\n",
       "    </tr>\n",
       "  </tbody>\n",
       "</table>\n",
       "</div>"
      ],
      "text/plain": [
       "    max_leaf_nodes  n_estimators  Accuracy\n",
       "0               50           200  0.951389\n",
       "1               50            90  0.949846\n",
       "2               50            30  0.949625\n",
       "3               50            20  0.949405\n",
       "4               50            10  0.946318\n",
       "5              100           200  0.956239\n",
       "6              100            90  0.956019\n",
       "7              100            30  0.954255\n",
       "8              100            20  0.953373\n",
       "9              100            10  0.949846\n",
       "10             150           200  0.954365\n",
       "11             150            90  0.954696\n",
       "12             150            30  0.955137\n",
       "13             150            20  0.949184\n",
       "14             150            10  0.947090\n",
       "15             200           200  0.954365\n",
       "16             200            90  0.955026\n",
       "17             200            30  0.951058\n",
       "18             200            20  0.953814\n",
       "19             200            10  0.946318\n",
       "20             500           200  0.954916\n",
       "21             500            90  0.956570\n",
       "22             500            30  0.953704\n",
       "23             500            20  0.953263\n",
       "24             500            10  0.950397"
      ]
     },
     "execution_count": 38,
     "metadata": {},
     "output_type": "execute_result"
    }
   ],
   "source": [
    "pd.concat([pd.DataFrame(rf_grid_search.cv_results_[\"params\"]),pd.DataFrame(rf_grid_search.cv_results_[\"mean_test_score\"], columns=[\"Accuracy\"])],axis=1)"
   ]
  },
  {
   "cell_type": "code",
   "execution_count": 39,
   "metadata": {},
   "outputs": [
    {
     "name": "stdout",
     "output_type": "stream",
     "text": [
      "Melhores parâmetros: {'max_leaf_nodes': 500, 'n_estimators': 90}\n"
     ]
    }
   ],
   "source": [
    "print(\"Melhores parâmetros: {}\".format(rf_grid_search.best_params_))"
   ]
  },
  {
   "cell_type": "markdown",
   "metadata": {},
   "source": [
    "O desempenho de cada conjunto de parâmetros pode ser visualizado pelo **Heatmap** seguinte."
   ]
  },
  {
   "cell_type": "code",
   "execution_count": 61,
   "metadata": {},
   "outputs": [
    {
     "data": {
      "image/png": "[encoded data removed]",
      "text/plain": [
       "<Figure size 432x288 with 2 Axes>"
      ]
     },
     "metadata": {
      "needs_background": "light"
     },
     "output_type": "display_data"
    }
   ],
   "source": [
    "results = pd.DataFrame(rf_grid_search.cv_results_)\n",
    "scores = np.array(results.mean_test_score).reshape(5, 5)\n",
    "ax = sns.heatmap(scores, xticklabels=rf_param_grid[\"max_leaf_nodes\"], yticklabels=rf_param_grid[\"n_estimators\"], annot=True)\n",
    "plt.xlabel(\"max_leaf_nodes\")\n",
    "plt.ylabel(\"n_estimators\")\n",
    "plt.show()"
   ]
  },
  {
   "cell_type": "markdown",
   "metadata": {},
   "source": [
    "Avaliou-se o melhor modelo com os dados de validação, obtendo-se os seguintes resultados."
   ]
  },
  {
   "cell_type": "code",
   "execution_count": 41,
   "metadata": {},
   "outputs": [
    {
     "name": "stdout",
     "output_type": "stream",
     "text": [
      "Exatidão: 0.950\n",
      "Precisão: 0.947\n",
      "Cobertura: 0.863\n",
      "F1: 0.903\n"
     ]
    },
    {
     "data": {
      "image/png": "[encoded data removed]",
      "text/plain": [
       "<Figure size 432x288 with 2 Axes>"
      ]
     },
     "metadata": {
      "needs_background": "light"
     },
     "output_type": "display_data"
    }
   ],
   "source": [
    "y_pred = rf_grid_search.predict(x_val)\n",
    "\n",
    "cm = confusion_matrix(y_val, y_pred)\n",
    "disp = ConfusionMatrixDisplay(confusion_matrix=cm)\n",
    "disp.plot()\n",
    "\n",
    "print(\"Exatidão: {:.3f}\".format(accuracy_score(y_val, y_pred)))\n",
    "print(\"Precisão: {:.3f}\".format(precision_score(y_val, y_pred)))\n",
    "print(\"Cobertura: {:.3f}\".format(recall_score(y_val, y_pred)))\n",
    "print(\"F1: {:.3f}\".format(f1_score(y_val, y_pred)))"
   ]
  },
  {
   "cell_type": "markdown",
   "metadata": {},
   "source": [
    "Por fim, reconstrui-se o modelo utilizando os melhores parâmetros e o conjunto de dados de treino completo."
   ]
  },
  {
   "cell_type": "code",
   "execution_count": 42,
   "metadata": {},
   "outputs": [],
   "source": [
    "rf_n_estimators = rf_grid_search.best_params_[\"n_estimators\"]\n",
    "rf_max_leaf_nodes = rf_grid_search.best_params_[\"max_leaf_nodes\"]\n",
    "\n",
    "rf = RandomForestClassifier(n_estimators=rf_n_estimators, max_depth=rf_max_leaf_nodes).fit(xdata_train, ydata_train)\n",
    "\n",
    "y_test = rf.predict(xdata_test)"
   ]
  },
  {
   "cell_type": "markdown",
   "metadata": {},
   "source": [
    "Este modelo obteve **0.96503** de **f1_score** para **30%** do conjunto de teste e **0.89965** para os restantes **70%**."
   ]
  },
  {
   "cell_type": "markdown",
   "metadata": {},
   "source": [
    "### Extra Trees\n",
    "\n",
    "Definiu-se inicialmente o modelo."
   ]
  },
  {
   "cell_type": "code",
   "execution_count": 43,
   "metadata": {},
   "outputs": [],
   "source": [
    "et = ExtraTreesClassifier()"
   ]
  },
  {
   "cell_type": "markdown",
   "metadata": {},
   "source": [
    "Utilizou-se a estratégia **ShuffleSplit** para este modelo."
   ]
  },
  {
   "cell_type": "code",
   "execution_count": 44,
   "metadata": {},
   "outputs": [],
   "source": [
    "shuffleSplit = ShuffleSplit(train_size=.7, n_splits=18, random_state=0)"
   ]
  },
  {
   "cell_type": "markdown",
   "metadata": {},
   "source": [
    "Escolheu-se um conjunto de valores para os parâmetros n_estimators e max_depth e aplicou-se o Grid Search."
   ]
  },
  {
   "cell_type": "code",
   "execution_count": 45,
   "metadata": {},
   "outputs": [],
   "source": [
    "et_param_grid = {'n_estimators': [250, 80, 70, 30, 20, 10],\n",
    "                 'max_depth': [10, 20, 22, 25, 30, 40]}\n",
    "\n",
    "et_grid_search = GridSearchCV(et, et_param_grid, cv=shuffleSplit)"
   ]
  },
  {
   "cell_type": "markdown",
   "metadata": {},
   "source": [
    "Utilizou-se o conjunto de dados destinados ao treino do modelo e procurou-se o melhor valor para os parâmetros **n_estimators** e **max_depth**."
   ]
  },
  {
   "cell_type": "code",
   "execution_count": 46,
   "metadata": {},
   "outputs": [
    {
     "data": {
      "text/plain": [
       "GridSearchCV(cv=ShuffleSplit(n_splits=18, random_state=0, test_size=None, train_size=0.7),\n",
       "             estimator=ExtraTreesClassifier(),\n",
       "             param_grid={'max_depth': [10, 20, 22, 25, 30, 40],\n",
       "                         'n_estimators': [250, 80, 70, 30, 20, 10]})"
      ]
     },
     "execution_count": 46,
     "metadata": {},
     "output_type": "execute_result"
    }
   ],
   "source": [
    "et_grid_search.fit(x_train, y_train)"
   ]
  },
  {
   "cell_type": "markdown",
   "metadata": {},
   "source": [
    "Os resultados do **Grid Search** foram os seguintes:"
   ]
  },
  {
   "cell_type": "code",
   "execution_count": 47,
   "metadata": {},
   "outputs": [
    {
     "data": {
      "text/html": [
       "<div>\n",
       "<style scoped>\n",
       "    .dataframe tbody tr th:only-of-type {\n",
       "        vertical-align: middle;\n",
       "    }\n",
       "\n",
       "    .dataframe tbody tr th {\n",
       "        vertical-align: top;\n",
       "    }\n",
       "\n",
       "    .dataframe thead th {\n",
       "        text-align: right;\n",
       "    }\n",
       "</style>\n",
       "<table border=\"1\" class=\"dataframe\">\n",
       "  <thead>\n",
       "    <tr style=\"text-align: right;\">\n",
       "      <th></th>\n",
       "      <th>max_depth</th>\n",
       "      <th>n_estimators</th>\n",
       "      <th>Accuracy</th>\n",
       "    </tr>\n",
       "  </thead>\n",
       "  <tbody>\n",
       "    <tr>\n",
       "      <th>0</th>\n",
       "      <td>10</td>\n",
       "      <td>250</td>\n",
       "      <td>0.951148</td>\n",
       "    </tr>\n",
       "    <tr>\n",
       "      <th>1</th>\n",
       "      <td>10</td>\n",
       "      <td>80</td>\n",
       "      <td>0.951056</td>\n",
       "    </tr>\n",
       "    <tr>\n",
       "      <th>2</th>\n",
       "      <td>10</td>\n",
       "      <td>70</td>\n",
       "      <td>0.950597</td>\n",
       "    </tr>\n",
       "    <tr>\n",
       "      <th>3</th>\n",
       "      <td>10</td>\n",
       "      <td>30</td>\n",
       "      <td>0.950413</td>\n",
       "    </tr>\n",
       "    <tr>\n",
       "      <th>4</th>\n",
       "      <td>10</td>\n",
       "      <td>20</td>\n",
       "      <td>0.951056</td>\n",
       "    </tr>\n",
       "    <tr>\n",
       "      <th>5</th>\n",
       "      <td>10</td>\n",
       "      <td>10</td>\n",
       "      <td>0.946373</td>\n",
       "    </tr>\n",
       "    <tr>\n",
       "      <th>6</th>\n",
       "      <td>20</td>\n",
       "      <td>250</td>\n",
       "      <td>0.964004</td>\n",
       "    </tr>\n",
       "    <tr>\n",
       "      <th>7</th>\n",
       "      <td>20</td>\n",
       "      <td>80</td>\n",
       "      <td>0.963636</td>\n",
       "    </tr>\n",
       "    <tr>\n",
       "      <th>8</th>\n",
       "      <td>20</td>\n",
       "      <td>70</td>\n",
       "      <td>0.964279</td>\n",
       "    </tr>\n",
       "    <tr>\n",
       "      <th>9</th>\n",
       "      <td>20</td>\n",
       "      <td>30</td>\n",
       "      <td>0.961616</td>\n",
       "    </tr>\n",
       "    <tr>\n",
       "      <th>10</th>\n",
       "      <td>20</td>\n",
       "      <td>20</td>\n",
       "      <td>0.961800</td>\n",
       "    </tr>\n",
       "    <tr>\n",
       "      <th>11</th>\n",
       "      <td>20</td>\n",
       "      <td>10</td>\n",
       "      <td>0.957025</td>\n",
       "    </tr>\n",
       "    <tr>\n",
       "      <th>12</th>\n",
       "      <td>22</td>\n",
       "      <td>250</td>\n",
       "      <td>0.964738</td>\n",
       "    </tr>\n",
       "    <tr>\n",
       "      <th>13</th>\n",
       "      <td>22</td>\n",
       "      <td>80</td>\n",
       "      <td>0.964004</td>\n",
       "    </tr>\n",
       "    <tr>\n",
       "      <th>14</th>\n",
       "      <td>22</td>\n",
       "      <td>70</td>\n",
       "      <td>0.963361</td>\n",
       "    </tr>\n",
       "    <tr>\n",
       "      <th>15</th>\n",
       "      <td>22</td>\n",
       "      <td>30</td>\n",
       "      <td>0.962994</td>\n",
       "    </tr>\n",
       "    <tr>\n",
       "      <th>16</th>\n",
       "      <td>22</td>\n",
       "      <td>20</td>\n",
       "      <td>0.961800</td>\n",
       "    </tr>\n",
       "    <tr>\n",
       "      <th>17</th>\n",
       "      <td>22</td>\n",
       "      <td>10</td>\n",
       "      <td>0.957943</td>\n",
       "    </tr>\n",
       "    <tr>\n",
       "      <th>18</th>\n",
       "      <td>25</td>\n",
       "      <td>250</td>\n",
       "      <td>0.963453</td>\n",
       "    </tr>\n",
       "    <tr>\n",
       "      <th>19</th>\n",
       "      <td>25</td>\n",
       "      <td>80</td>\n",
       "      <td>0.962810</td>\n",
       "    </tr>\n",
       "    <tr>\n",
       "      <th>20</th>\n",
       "      <td>25</td>\n",
       "      <td>70</td>\n",
       "      <td>0.962994</td>\n",
       "    </tr>\n",
       "    <tr>\n",
       "      <th>21</th>\n",
       "      <td>25</td>\n",
       "      <td>30</td>\n",
       "      <td>0.962167</td>\n",
       "    </tr>\n",
       "    <tr>\n",
       "      <th>22</th>\n",
       "      <td>25</td>\n",
       "      <td>20</td>\n",
       "      <td>0.960698</td>\n",
       "    </tr>\n",
       "    <tr>\n",
       "      <th>23</th>\n",
       "      <td>25</td>\n",
       "      <td>10</td>\n",
       "      <td>0.957392</td>\n",
       "    </tr>\n",
       "    <tr>\n",
       "      <th>24</th>\n",
       "      <td>30</td>\n",
       "      <td>250</td>\n",
       "      <td>0.964004</td>\n",
       "    </tr>\n",
       "    <tr>\n",
       "      <th>25</th>\n",
       "      <td>30</td>\n",
       "      <td>80</td>\n",
       "      <td>0.963820</td>\n",
       "    </tr>\n",
       "    <tr>\n",
       "      <th>26</th>\n",
       "      <td>30</td>\n",
       "      <td>70</td>\n",
       "      <td>0.963636</td>\n",
       "    </tr>\n",
       "    <tr>\n",
       "      <th>27</th>\n",
       "      <td>30</td>\n",
       "      <td>30</td>\n",
       "      <td>0.963269</td>\n",
       "    </tr>\n",
       "    <tr>\n",
       "      <th>28</th>\n",
       "      <td>30</td>\n",
       "      <td>20</td>\n",
       "      <td>0.959688</td>\n",
       "    </tr>\n",
       "    <tr>\n",
       "      <th>29</th>\n",
       "      <td>30</td>\n",
       "      <td>10</td>\n",
       "      <td>0.957484</td>\n",
       "    </tr>\n",
       "    <tr>\n",
       "      <th>30</th>\n",
       "      <td>40</td>\n",
       "      <td>250</td>\n",
       "      <td>0.964279</td>\n",
       "    </tr>\n",
       "    <tr>\n",
       "      <th>31</th>\n",
       "      <td>40</td>\n",
       "      <td>80</td>\n",
       "      <td>0.963636</td>\n",
       "    </tr>\n",
       "    <tr>\n",
       "      <th>32</th>\n",
       "      <td>40</td>\n",
       "      <td>70</td>\n",
       "      <td>0.964555</td>\n",
       "    </tr>\n",
       "    <tr>\n",
       "      <th>33</th>\n",
       "      <td>40</td>\n",
       "      <td>30</td>\n",
       "      <td>0.962075</td>\n",
       "    </tr>\n",
       "    <tr>\n",
       "      <th>34</th>\n",
       "      <td>40</td>\n",
       "      <td>20</td>\n",
       "      <td>0.960331</td>\n",
       "    </tr>\n",
       "    <tr>\n",
       "      <th>35</th>\n",
       "      <td>40</td>\n",
       "      <td>10</td>\n",
       "      <td>0.956290</td>\n",
       "    </tr>\n",
       "  </tbody>\n",
       "</table>\n",
       "</div>"
      ],
      "text/plain": [
       "    max_depth  n_estimators  Accuracy\n",
       "0          10           250  0.951148\n",
       "1          10            80  0.951056\n",
       "2          10            70  0.950597\n",
       "3          10            30  0.950413\n",
       "4          10            20  0.951056\n",
       "5          10            10  0.946373\n",
       "6          20           250  0.964004\n",
       "7          20            80  0.963636\n",
       "8          20            70  0.964279\n",
       "9          20            30  0.961616\n",
       "10         20            20  0.961800\n",
       "11         20            10  0.957025\n",
       "12         22           250  0.964738\n",
       "13         22            80  0.964004\n",
       "14         22            70  0.963361\n",
       "15         22            30  0.962994\n",
       "16         22            20  0.961800\n",
       "17         22            10  0.957943\n",
       "18         25           250  0.963453\n",
       "19         25            80  0.962810\n",
       "20         25            70  0.962994\n",
       "21         25            30  0.962167\n",
       "22         25            20  0.960698\n",
       "23         25            10  0.957392\n",
       "24         30           250  0.964004\n",
       "25         30            80  0.963820\n",
       "26         30            70  0.963636\n",
       "27         30            30  0.963269\n",
       "28         30            20  0.959688\n",
       "29         30            10  0.957484\n",
       "30         40           250  0.964279\n",
       "31         40            80  0.963636\n",
       "32         40            70  0.964555\n",
       "33         40            30  0.962075\n",
       "34         40            20  0.960331\n",
       "35         40            10  0.956290"
      ]
     },
     "execution_count": 47,
     "metadata": {},
     "output_type": "execute_result"
    }
   ],
   "source": [
    "pd.concat([pd.DataFrame(et_grid_search.cv_results_[\"params\"]),pd.DataFrame(et_grid_search.cv_results_[\"mean_test_score\"], columns=[\"Accuracy\"])],axis=1)"
   ]
  },
  {
   "cell_type": "code",
   "execution_count": 48,
   "metadata": {},
   "outputs": [
    {
     "name": "stdout",
     "output_type": "stream",
     "text": [
      "Melhores parâmetros: {'max_depth': 22, 'n_estimators': 250}\n"
     ]
    }
   ],
   "source": [
    "print(\"Melhores parâmetros: {}\".format(et_grid_search.best_params_))"
   ]
  },
  {
   "cell_type": "markdown",
   "metadata": {},
   "source": [
    "O desempenho de cada conjunto de parâmetros pode ser visualizado pelo **Heatmap** seguinte."
   ]
  },
  {
   "cell_type": "code",
   "execution_count": 49,
   "metadata": {},
   "outputs": [
    {
     "data": {
      "image/png": "[encoded data removed]",
      "text/plain": [
       "<Figure size 432x288 with 2 Axes>"
      ]
     },
     "metadata": {
      "needs_background": "light"
     },
     "output_type": "display_data"
    }
   ],
   "source": [
    "results = pd.DataFrame(et_grid_search.cv_results_)\n",
    "scores = np.array(results.mean_test_score).reshape(6, 6)\n",
    "ax = sns.heatmap(scores, xticklabels=et_param_grid[\"max_depth\"], yticklabels=et_param_grid[\"n_estimators\"], annot=True)\n",
    "plt.xlabel(\"max_depth\")\n",
    "plt.ylabel(\"n_estimators\")\n",
    "plt.show()"
   ]
  },
  {
   "cell_type": "markdown",
   "metadata": {},
   "source": [
    "Avaliou-se o melhor modelo com os dados de validação, obtendo-se os seguintes resultados."
   ]
  },
  {
   "cell_type": "code",
   "execution_count": 50,
   "metadata": {},
   "outputs": [
    {
     "name": "stdout",
     "output_type": "stream",
     "text": [
      "Exatidão: 0.942\n",
      "Precisão: 0.908\n",
      "Cobertura: 0.871\n",
      "F1: 0.889\n"
     ]
    },
    {
     "data": {
      "image/png": "[encoded data removed]",
      "text/plain": [
       "<Figure size 432x288 with 2 Axes>"
      ]
     },
     "metadata": {
      "needs_background": "light"
     },
     "output_type": "display_data"
    }
   ],
   "source": [
    "y_pred = et_grid_search.predict(x_val)\n",
    "\n",
    "cm = confusion_matrix(y_val, y_pred)\n",
    "disp = ConfusionMatrixDisplay(confusion_matrix=cm)\n",
    "disp.plot()\n",
    "\n",
    "print(\"Exatidão: {:.3f}\".format(accuracy_score(y_val, y_pred)))\n",
    "print(\"Precisão: {:.3f}\".format(precision_score(y_val, y_pred)))\n",
    "print(\"Cobertura: {:.3f}\".format(recall_score(y_val, y_pred)))\n",
    "print(\"F1: {:.3f}\".format(f1_score(y_val, y_pred)))"
   ]
  },
  {
   "cell_type": "markdown",
   "metadata": {},
   "source": [
    "Por fim, reconstrui-se o modelo utilizando os melhores parâmetros e o conjunto de dados de treino completo."
   ]
  },
  {
   "cell_type": "code",
   "execution_count": 51,
   "metadata": {},
   "outputs": [],
   "source": [
    "et_n_estimators = et_grid_search.best_params_[\"n_estimators\"]\n",
    "et_max_depth = et_grid_search.best_params_[\"max_depth\"]\n",
    "\n",
    "et = ExtraTreesClassifier(n_estimators=et_n_estimators, max_depth=et_max_depth).fit(xdata_train, ydata_train)\n",
    "\n",
    "y_test = et.predict(xdata_test)"
   ]
  },
  {
   "cell_type": "markdown",
   "metadata": {},
   "source": [
    "Este modelo obteve **0.95104** de **f1_score** para **30%** do conjunto de teste e **0.89655** para os restantes **70%**."
   ]
  },
  {
   "cell_type": "markdown",
   "metadata": {},
   "source": [
    "### Gradient Boosting\n",
    "\n",
    "Definiu-se inicialmente o modelo."
   ]
  },
  {
   "cell_type": "code",
   "execution_count": 52,
   "metadata": {},
   "outputs": [],
   "source": [
    "gb = GradientBoostingClassifier()"
   ]
  },
  {
   "cell_type": "markdown",
   "metadata": {},
   "source": [
    "Utilizou-se a estratégia **ShuffleSplit** para este modelo."
   ]
  },
  {
   "cell_type": "code",
   "execution_count": 53,
   "metadata": {},
   "outputs": [],
   "source": [
    "shuffleSplit = ShuffleSplit(train_size=.75, n_splits=18, random_state=42)"
   ]
  },
  {
   "cell_type": "markdown",
   "metadata": {},
   "source": [
    "Escolheu-se um conjunto de valores para os parâmetros **n_estimators** ,**learning_rate** e **max_depth** e aplicou-se o Grid Search."
   ]
  },
  {
   "cell_type": "code",
   "execution_count": 54,
   "metadata": {},
   "outputs": [],
   "source": [
    "gb_param_grid = {'n_estimators': [10, 20, 30, 70, 90],\n",
    "                 'max_depth': [1, 2, 3, 4, 5],\n",
    "                 'learning_rate': [0.1, 0.2, 0.3, 0.4, 0.5]}\n",
    "\n",
    "gb_grid_search = GridSearchCV(gb, gb_param_grid, cv = shuffleSplit)"
   ]
  },
  {
   "cell_type": "markdown",
   "metadata": {},
   "source": [
    "Utilizou-se o conjunto de dados destinados ao treino do modelo e procurou-se o melhor valor para os parâmetros **n_estimators**, **max_depth** e **learning_rate**."
   ]
  },
  {
   "cell_type": "code",
   "execution_count": 55,
   "metadata": {},
   "outputs": [
    {
     "data": {
      "text/plain": [
       "GridSearchCV(cv=ShuffleSplit(n_splits=18, random_state=42, test_size=None, train_size=0.75),\n",
       "             estimator=GradientBoostingClassifier(),\n",
       "             param_grid={'learning_rate': [0.1, 0.2, 0.3, 0.4, 0.5],\n",
       "                         'max_depth': [1, 2, 3, 4, 5],\n",
       "                         'n_estimators': [10, 20, 30, 70, 90]})"
      ]
     },
     "execution_count": 55,
     "metadata": {},
     "output_type": "execute_result"
    }
   ],
   "source": [
    "gb_grid_search.fit(x_train, y_train)"
   ]
  },
  {
   "cell_type": "markdown",
   "metadata": {},
   "source": [
    "Os resultados do **Grid Search** foram os seguintes:"
   ]
  },
  {
   "cell_type": "code",
   "execution_count": 56,
   "metadata": {},
   "outputs": [
    {
     "data": {
      "text/html": [
       "<div>\n",
       "<style scoped>\n",
       "    .dataframe tbody tr th:only-of-type {\n",
       "        vertical-align: middle;\n",
       "    }\n",
       "\n",
       "    .dataframe tbody tr th {\n",
       "        vertical-align: top;\n",
       "    }\n",
       "\n",
       "    .dataframe thead th {\n",
       "        text-align: right;\n",
       "    }\n",
       "</style>\n",
       "<table border=\"1\" class=\"dataframe\">\n",
       "  <thead>\n",
       "    <tr style=\"text-align: right;\">\n",
       "      <th></th>\n",
       "      <th>learning_rate</th>\n",
       "      <th>max_depth</th>\n",
       "      <th>n_estimators</th>\n",
       "      <th>Accuracy</th>\n",
       "    </tr>\n",
       "  </thead>\n",
       "  <tbody>\n",
       "    <tr>\n",
       "      <th>0</th>\n",
       "      <td>0.1</td>\n",
       "      <td>1</td>\n",
       "      <td>10</td>\n",
       "      <td>0.909281</td>\n",
       "    </tr>\n",
       "    <tr>\n",
       "      <th>1</th>\n",
       "      <td>0.1</td>\n",
       "      <td>1</td>\n",
       "      <td>20</td>\n",
       "      <td>0.916336</td>\n",
       "    </tr>\n",
       "    <tr>\n",
       "      <th>2</th>\n",
       "      <td>0.1</td>\n",
       "      <td>1</td>\n",
       "      <td>30</td>\n",
       "      <td>0.920414</td>\n",
       "    </tr>\n",
       "    <tr>\n",
       "      <th>3</th>\n",
       "      <td>0.1</td>\n",
       "      <td>1</td>\n",
       "      <td>70</td>\n",
       "      <td>0.934083</td>\n",
       "    </tr>\n",
       "    <tr>\n",
       "      <th>4</th>\n",
       "      <td>0.1</td>\n",
       "      <td>1</td>\n",
       "      <td>90</td>\n",
       "      <td>0.938051</td>\n",
       "    </tr>\n",
       "    <tr>\n",
       "      <th>...</th>\n",
       "      <td>...</td>\n",
       "      <td>...</td>\n",
       "      <td>...</td>\n",
       "      <td>...</td>\n",
       "    </tr>\n",
       "    <tr>\n",
       "      <th>120</th>\n",
       "      <td>0.5</td>\n",
       "      <td>5</td>\n",
       "      <td>10</td>\n",
       "      <td>0.948523</td>\n",
       "    </tr>\n",
       "    <tr>\n",
       "      <th>121</th>\n",
       "      <td>0.5</td>\n",
       "      <td>5</td>\n",
       "      <td>20</td>\n",
       "      <td>0.954916</td>\n",
       "    </tr>\n",
       "    <tr>\n",
       "      <th>122</th>\n",
       "      <td>0.5</td>\n",
       "      <td>5</td>\n",
       "      <td>30</td>\n",
       "      <td>0.956900</td>\n",
       "    </tr>\n",
       "    <tr>\n",
       "      <th>123</th>\n",
       "      <td>0.5</td>\n",
       "      <td>5</td>\n",
       "      <td>70</td>\n",
       "      <td>0.959656</td>\n",
       "    </tr>\n",
       "    <tr>\n",
       "      <th>124</th>\n",
       "      <td>0.5</td>\n",
       "      <td>5</td>\n",
       "      <td>90</td>\n",
       "      <td>0.960758</td>\n",
       "    </tr>\n",
       "  </tbody>\n",
       "</table>\n",
       "<p>125 rows × 4 columns</p>\n",
       "</div>"
      ],
      "text/plain": [
       "     learning_rate  max_depth  n_estimators  Accuracy\n",
       "0              0.1          1            10  0.909281\n",
       "1              0.1          1            20  0.916336\n",
       "2              0.1          1            30  0.920414\n",
       "3              0.1          1            70  0.934083\n",
       "4              0.1          1            90  0.938051\n",
       "..             ...        ...           ...       ...\n",
       "120            0.5          5            10  0.948523\n",
       "121            0.5          5            20  0.954916\n",
       "122            0.5          5            30  0.956900\n",
       "123            0.5          5            70  0.959656\n",
       "124            0.5          5            90  0.960758\n",
       "\n",
       "[125 rows x 4 columns]"
      ]
     },
     "execution_count": 56,
     "metadata": {},
     "output_type": "execute_result"
    }
   ],
   "source": [
    "pd.concat([pd.DataFrame(gb_grid_search.cv_results_[\"params\"]),pd.DataFrame(gb_grid_search.cv_results_[\"mean_test_score\"], columns=[\"Accuracy\"])],axis=1)"
   ]
  },
  {
   "cell_type": "code",
   "execution_count": 57,
   "metadata": {},
   "outputs": [
    {
     "name": "stdout",
     "output_type": "stream",
     "text": [
      "Melhores parâmetros: {'learning_rate': 0.3, 'max_depth': 5, 'n_estimators': 90}\n"
     ]
    }
   ],
   "source": [
    "print(\"Melhores parâmetros: {}\".format(gb_grid_search.best_params_))"
   ]
  },
  {
   "cell_type": "markdown",
   "metadata": {},
   "source": [
    "Avaliou-se o melhor modelo com os dados de validação, obtendo-se os seguintes resultados."
   ]
  },
  {
   "cell_type": "code",
   "execution_count": 58,
   "metadata": {},
   "outputs": [
    {
     "name": "stdout",
     "output_type": "stream",
     "text": [
      "Exatidão: 0.937\n",
      "Precisão: 0.906\n",
      "Cobertura: 0.855\n",
      "F1: 0.880\n"
     ]
    },
    {
     "data": {
      "image/png": "[encoded data removed]",
      "text/plain": [
       "<Figure size 432x288 with 2 Axes>"
      ]
     },
     "metadata": {
      "needs_background": "light"
     },
     "output_type": "display_data"
    }
   ],
   "source": [
    "y_pred = gb_grid_search.predict(x_val)\n",
    "\n",
    "cm = confusion_matrix(y_val, y_pred)\n",
    "disp = ConfusionMatrixDisplay(confusion_matrix=cm)\n",
    "disp.plot()\n",
    "\n",
    "print(\"Exatidão: {:.3f}\".format(accuracy_score(y_val, y_pred)))\n",
    "print(\"Precisão: {:.3f}\".format(precision_score(y_val, y_pred)))\n",
    "print(\"Cobertura: {:.3f}\".format(recall_score(y_val, y_pred)))\n",
    "print(\"F1: {:.3f}\".format(f1_score(y_val, y_pred)))"
   ]
  },
  {
   "cell_type": "markdown",
   "metadata": {},
   "source": [
    "Por fim, reconstrui-se o modelo utilizando os melhores parâmetros e o conjunto de dados de treino completo."
   ]
  },
  {
   "cell_type": "code",
   "execution_count": 59,
   "metadata": {},
   "outputs": [],
   "source": [
    "gb_n_estimators = gb_grid_search.best_params_[\"n_estimators\"]\n",
    "gb_max_depth = gb_grid_search.best_params_[\"max_depth\"]\n",
    "gb_learning_rate = gb_grid_search.best_params_[\"learning_rate\"]\n",
    "\n",
    "gb = GradientBoostingClassifier(n_estimators=gb_n_estimators, max_depth=gb_max_depth, learning_rate=gb_learning_rate).fit(xdata_train, ydata_train)\n",
    "\n",
    "y_test = gb.predict(xdata_test)"
   ]
  },
  {
   "cell_type": "markdown",
   "metadata": {},
   "source": [
    "Este modelo obteve **0.95104** de **f1_score** para **30%** do conjunto de teste e **0.90784** para os restantes **70%**."
   ]
  },
  {
   "cell_type": "markdown",
   "metadata": {},
   "source": [
    "# Discussão & Conclusões\n",
    "\n",
    "Tendo em consideração as características dos conjuntos de dados (treino e teste) nomeadamente por se tratarem de conjuntos com grande quantidade de atributos e exemplos, conclui-se que o uso de modelos baseados em árvores de decisão foram aqueles que melhor desempenho apresentaram, sendo estes o Random Forest, o Extra Trees e o Gradient Boosting.\n",
    "\n",
    "Uma das características também observadas no conjunto de dados de treino é o facto de os dados não serem balanceados, como já referido anteriormente. A adição de exemplos com classe minoritária contribuiu para um ligeiro aumento de desempenho para os modelos baseados em árvores. Nos restantes modelos, o desempenho não só aumentou como piorou quando usados alguns valores para os parâmetros testados.\n",
    "\n",
    "A validação cruzada revelou-se importante para a procura do melhor modelo, destacando-se a estratégia ShuffleSplit que acabou por ser a escolha para todos os modelos com melhor desempenho.\n",
    "\n",
    "Verificou-se ainda uma diferença significativa de desempenho dos modelos no que diz respeito à previsão das classes para 30% do conjunto de teste em relação aos restantes 70%. Isto deveu-se provavelmente pelo foco dado à procura do melhor desempenho para 30% do conjunto, desenvolvendo modelos demasiado complexos e específicos (originando *overfitting*) para este conjunto e que não generalizavam tão bem para os restantes 70%.\n",
    "\n",
    "A aleatoriedade dos algoritmos utilizados na procura dos melhores modelos permitiu atingir bons valores de desempenho mas também modelos demasiado complexos."
   ]
  }
 ],
 "metadata": {
  "kernelspec": {
   "display_name": "Python 3",
   "language": "python",
   "name": "python3"
  },
  "language_info": {
   "codemirror_mode": {
    "name": "ipython",
    "version": 3
   },
   "file_extension": ".py",
   "mimetype": "text/x-python",
   "name": "python",
   "nbconvert_exporter": "python",
   "pygments_lexer": "ipython3",
   "version": "3.8.5"
  }
 },
 "nbformat": 4,
 "nbformat_minor": 4
}
